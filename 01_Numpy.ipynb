{
  "nbformat": 4,
  "nbformat_minor": 0,
  "metadata": {
    "colab": {
      "name": "01 Numpy.ipynb의 사본",
      "provenance": [],
      "collapsed_sections": [],
      "include_colab_link": true
    },
    "kernelspec": {
      "display_name": "Python 3",
      "language": "python",
      "name": "python3"
    },
    "language_info": {
      "codemirror_mode": {
        "name": "ipython",
        "version": 3
      },
      "file_extension": ".py",
      "mimetype": "text/x-python",
      "name": "python",
      "nbconvert_exporter": "python",
      "pygments_lexer": "ipython3",
      "version": "3.7.6"
    }
  },
  "cells": [
    {
      "cell_type": "markdown",
      "metadata": {
        "id": "view-in-github",
        "colab_type": "text"
      },
      "source": [
        "<a href=\"https://colab.research.google.com/github/suhwajo/Algorithm_Spring_semester/blob/master/01_Numpy.ipynb\" target=\"_parent\"><img src=\"https://colab.research.google.com/assets/colab-badge.svg\" alt=\"Open In Colab\"/></a>"
      ]
    },
    {
      "cell_type": "markdown",
      "metadata": {
        "colab_type": "text",
        "id": "dzNng6vCL9eP"
      },
      "source": [
        "# Python 기초와 Numpy\n"
      ]
    },
    {
      "cell_type": "markdown",
      "metadata": {
        "colab_type": "text",
        "id": "0vJLt3JRL9eR"
      },
      "source": [
        "이 튜토리얼은 Justin Johnson에 의해 최초로 작성되고, Volodymyr Kuleshov, Isaac Caswell, 그리고 Kevin Zakka에 의해 수정된 버전을 이 수업에 맞게 다시 수정한 것이다."
      ]
    },
    {
      "cell_type": "markdown",
      "metadata": {
        "colab_type": "text",
        "id": "qVrTo-LhL9eS"
      },
      "source": [
        "##학습목표\n",
        "\n",
        "- Python 기초\n",
        "  - 기본 데이터 타입과 연산 \n",
        "  - 컨테이너(container): List, Dictionary, Set, Tuple\n",
        "  - Function과 Class\n",
        "- Numpy\n",
        "  - Basic usage\n",
        "  - Array indexing\n",
        "  - Array math\n",
        "  - Broadcasting\n",
        "- Matplotlib: Plotting, Subplots, Images"
      ]
    },
    {
      "cell_type": "markdown",
      "metadata": {
        "colab_type": "text",
        "id": "nxvEkGXPM3Xh"
      },
      "source": [
        "## Python 버전에 대하여\n",
        "\n",
        "* 파이썬의 두 가지 버전 Python 2.7과 Python 3.x가 동시에 사용되어 왔지만 2020년 1월에 Python 2에 대한 지원이 공식적으로 종료\n",
        "\n",
        "* 우리 수업에서는 Python 3.6 혹은 3.7을 사용\n",
        "\n",
        "* 커맨드라인에 다음의 명령어로 현재 시스템에 설치된 파이썬 버전을 확인할 수 있음: `python --version`. "
      ]
    },
    {
      "cell_type": "code",
      "metadata": {
        "colab_type": "code",
        "id": "1L4Am0QATgOc",
        "colab": {
          "base_uri": "https://localhost:8080/",
          "height": 34
        },
        "outputId": "46e08d65-5cc5-4e69-8972-b55aebaa5a7a"
      },
      "source": [
        "!python --version"
      ],
      "execution_count": 1,
      "outputs": [
        {
          "output_type": "stream",
          "text": [
            "Python 3.6.9\n"
          ],
          "name": "stdout"
        }
      ]
    },
    {
      "cell_type": "markdown",
      "metadata": {
        "colab_type": "text",
        "id": "NwS_hu4xL9eo"
      },
      "source": [
        "## 기본 데이터 타입 \n",
        "\n",
        "다른 프로그래밍 언어들처럼 파이썬에도 정수, 실수, 불리언, 문자열 같은 기본 자료형이 있다."
      ]
    },
    {
      "cell_type": "markdown",
      "metadata": {
        "colab_type": "text",
        "id": "DL5sMSZ9L9eq"
      },
      "source": [
        "####Numbers"
      ]
    },
    {
      "cell_type": "markdown",
      "metadata": {
        "colab_type": "text",
        "id": "MGS0XEWoL9er"
      },
      "source": [
        "파이썬의 정수형(Integers)과 실수형(floats) 데이터 타입은 다른 언어와 거의 유사하다. \n",
        "\n",
        "\n",
        "\n"
      ]
    },
    {
      "cell_type": "code",
      "metadata": {
        "colab_type": "code",
        "id": "KheDr_zDL9es",
        "colab": {}
      },
      "source": [
        "x = 3\n",
        "print(x, type(x))     # `type`함수를 이용하여 데이터의 타입을 확인할 수 있다."
      ],
      "execution_count": null,
      "outputs": []
    },
    {
      "cell_type": "code",
      "metadata": {
        "colab_type": "code",
        "id": "sk_8DFcuL9ey",
        "colab": {}
      },
      "source": [
        "print(x + 1)   # Addition\n",
        "print(x - 1)   # Subtraction\n",
        "print(x * 2)   # Multiplication\n",
        "print(x ** 2)  # Exponentiation"
      ],
      "execution_count": null,
      "outputs": []
    },
    {
      "cell_type": "code",
      "metadata": {
        "colab_type": "code",
        "id": "U4Jl8K0tL9e4",
        "colab": {}
      },
      "source": [
        "x += 1\n",
        "print(x)\n",
        "x *= 2\n",
        "print(x)"
      ],
      "execution_count": null,
      "outputs": []
    },
    {
      "cell_type": "code",
      "metadata": {
        "colab_type": "code",
        "id": "w-nZ0Sg_L9e9",
        "colab": {}
      },
      "source": [
        "y = 2.5\n",
        "print(type(y))\n",
        "print(y, y + 1, y * 2, y ** 2)\n",
        "\n",
        "print(int(y))       # 정수로 타입 캐스팅    (int)y\n",
        "print(float(x))     # 실수로 타입 캐스팅\n",
        "\n",
        "print(int(y)/x)     # 피연산자가 둘 다 정수지만 결과는 실수이다.\n",
        "print((int(y)//x))  # //는 몫을 구하는 연산이다.\n",
        "print(int(y) % x)   # %는 나머지를 구하는 연산이다."
      ],
      "execution_count": null,
      "outputs": []
    },
    {
      "cell_type": "markdown",
      "metadata": {
        "colab_type": "text",
        "id": "r2A9ApyaL9fB"
      },
      "source": [
        "- 다른 언어들과는 달리 파이썬에는 증감 단항연산자(`x++`, `x--`)\n",
        "가 없으며, \n",
        "- 지수연산자 `**`가 제공된다. \n",
        "- 또한 Python 3에서는 나눗셈에서 피연산자가 모두 정수인 경우에도 결과는 실수가 된다.\n",
        "- 몫을 구하는 연산자는 `//`이며, 나머지 연산자는 `%`이다.\n",
        "- 파이썬은 long 정수형과 복소수 데이터 타입도 지원한다. 자세한 사항은 [문서](https://docs.python.org/3.7/library/stdtypes.html#numeric-types-int-float-long-complex)를 참조하라."
      ]
    },
    {
      "cell_type": "markdown",
      "metadata": {
        "colab_type": "text",
        "id": "EqRS7qhBL9fC"
      },
      "source": [
        "####Booleans"
      ]
    },
    {
      "cell_type": "markdown",
      "metadata": {
        "colab_type": "text",
        "id": "Nv_LIVOJL9fD"
      },
      "source": [
        "논리연산자는 기호(`&&`, `||`, `~`) 대신 영어 단어(`and`, `or`, `not`)를 사용한다."
      ]
    },
    {
      "cell_type": "code",
      "metadata": {
        "colab_type": "code",
        "id": "RvoImwgGL9fE",
        "colab": {}
      },
      "source": [
        "t, f = True, False\n",
        "print(type(t))"
      ],
      "execution_count": null,
      "outputs": []
    },
    {
      "cell_type": "code",
      "metadata": {
        "colab_type": "code",
        "id": "6zYm7WzCL9fK",
        "colab": {}
      },
      "source": [
        "print(t and f) # Logical AND;\n",
        "print(t or f)  # Logical OR;\n",
        "print(not t)   # Logical NOT;\n",
        "print(t != f)  # Logical XOR;"
      ],
      "execution_count": null,
      "outputs": []
    },
    {
      "cell_type": "markdown",
      "metadata": {
        "colab_type": "text",
        "id": "UQnQWFEyL9fP"
      },
      "source": [
        "####Strings\n",
        "파이썬은 문자열을 표현하고 처리하는 다양한 기능을 지원한다:"
      ]
    },
    {
      "cell_type": "code",
      "metadata": {
        "colab_type": "code",
        "id": "AijEDtPFL9fP",
        "colab": {}
      },
      "source": [
        "word = \"it's\"\n",
        "print(word)\n",
        "hello = 'hello'   # String literals can use single quotes\n",
        "world = \"world\"   # or double quotes; it does not matter\n",
        "print(hello, len(hello))"
      ],
      "execution_count": null,
      "outputs": []
    },
    {
      "cell_type": "code",
      "metadata": {
        "colab_type": "code",
        "id": "saDeaA7hL9fT",
        "colab": {}
      },
      "source": [
        "hw = hello + ' ' + world  # String concatenation\n",
        "print(hw)"
      ],
      "execution_count": null,
      "outputs": []
    },
    {
      "cell_type": "code",
      "metadata": {
        "colab_type": "code",
        "id": "Nji1_UjYL9fY",
        "colab": {}
      },
      "source": [
        "hw12 = 'The concatenated string is {} jhdfg {}sdf{}.'.format(hello, world, 12)  # string formatting printf(\"%d%s%f\", 4, \"hello\", 0.25)\n",
        "print(hw12)"
      ],
      "execution_count": null,
      "outputs": []
    },
    {
      "cell_type": "markdown",
      "metadata": {
        "colab_type": "text",
        "id": "bUpl35bIL9fc"
      },
      "source": [
        "문자열 객체에는 유용한 메소드들이 많다; 예를 들어:"
      ]
    },
    {
      "cell_type": "code",
      "metadata": {
        "colab_type": "code",
        "id": "VOxGatlsL9fd",
        "colab": {}
      },
      "source": [
        "s = \"hello\"\n",
        "print(s.capitalize())  # Capitalize a string\n",
        "print(s.upper())       # Convert a string to uppercase; prints \"HELLO\"\n",
        "print(s.rjust(7))      # Right-justify a string, padding with spaces\n",
        "print(s.center(7))     # Center a string, padding with spaces\n",
        "print(s.replace('l', '(ell)'))  # Replace all instances of one substring with another\n",
        "print('  world '.strip())  # Strip leading and trailing whitespace"
      ],
      "execution_count": null,
      "outputs": []
    },
    {
      "cell_type": "markdown",
      "metadata": {
        "id": "SUKm48sjOLK-",
        "colab_type": "text"
      },
      "source": [
        "문자열 내에서 substring을 검색하는 다양한 메서드들을 제공한다."
      ]
    },
    {
      "cell_type": "code",
      "metadata": {
        "id": "65CwsxcQNbU2",
        "colab_type": "code",
        "colab": {}
      },
      "source": [
        "print('lm' in s)\n",
        "print(s.find('lm'))\n",
        "print(s.idex('elm'))"
      ],
      "execution_count": null,
      "outputs": []
    },
    {
      "cell_type": "markdown",
      "metadata": {
        "id": "d7kap8uGOfRl",
        "colab_type": "text"
      },
      "source": [
        "문자열을 분할하는 다양한 기능을 제공한다."
      ]
    },
    {
      "cell_type": "code",
      "metadata": {
        "id": "SWfe8MlKOlUl",
        "colab_type": "code",
        "colab": {}
      },
      "source": [
        "str = '1,2,3,4'\n",
        "print(str.split(','))\n",
        "print(str.split(',', maxsplit=2))\n",
        "print('1,2,,3,'.split(','))"
      ],
      "execution_count": null,
      "outputs": []
    },
    {
      "cell_type": "markdown",
      "metadata": {
        "colab_type": "text",
        "id": "06cayXLtL9fi"
      },
      "source": [
        "\n",
        "\n",
        "모든 문자열 메소드는 [문서](https://docs.python.org/3.7/library/stdtypes.html#string-methods)에서 찾아볼 수 있다."
      ]
    },
    {
      "cell_type": "markdown",
      "metadata": {
        "colab_type": "text",
        "id": "p-6hClFjL9fk"
      },
      "source": [
        "##컨테이너 (container)"
      ]
    },
    {
      "cell_type": "markdown",
      "metadata": {
        "colab_type": "text",
        "id": "FD9H18eQL9fk"
      },
      "source": [
        "파이썬은 다음과 같은 컨테이너 타입을 지원한다. \n",
        "- 리스트(list)\n",
        "- 딕셔너리(dictionary)\n",
        "- 집합(set)\n",
        "- 튜플(tuple)"
      ]
    },
    {
      "cell_type": "markdown",
      "metadata": {
        "colab_type": "text",
        "id": "UsIWOe0LL9fn"
      },
      "source": [
        "## 리스트(List)"
      ]
    },
    {
      "cell_type": "markdown",
      "metadata": {
        "id": "sE7AVfZJXRcj",
        "colab_type": "text"
      },
      "source": [
        "### 리스트의 생성과 기본 연산들"
      ]
    },
    {
      "cell_type": "markdown",
      "metadata": {
        "colab_type": "text",
        "id": "wzxX7rgWL9fn"
      },
      "source": [
        "리스트는 파이썬에서 배열 같은 존재이다. 하지만 배열과 달리 **크기 변경이 가능**하고 **서로 다른 자료형**일지라도 하나의 리스트에 저장될 수 있다:"
      ]
    },
    {
      "cell_type": "code",
      "metadata": {
        "colab_type": "code",
        "id": "hk3A8pPcL9fp",
        "colab": {}
      },
      "source": [
        "empty = []        # Create an empty list\n",
        "print(len(empty)) # the length of a list\n",
        "xs = [3, 1, 2]    # Create a list of length 3\n",
        "print(len(xs))\n",
        "print(xs, xs[0])\n",
        "print(xs[1])\n",
        "print(xs[-1])     # Negative indices count from the end of the list; prints \"2\"\n",
        "print(xs[-2])\n",
        "print(xs[-3])"
      ],
      "execution_count": null,
      "outputs": []
    },
    {
      "cell_type": "markdown",
      "metadata": {
        "id": "eCuJqtdaUvsG",
        "colab_type": "text"
      },
      "source": [
        "리스트에 저장된 값을 변경하거나, 리스트에 새로운 원소를 추가(`append`, `insert`)하고 삭제(`pop`, `remove`)하는 여러 방법들을 제공한다."
      ]
    },
    {
      "cell_type": "code",
      "metadata": {
        "colab_type": "code",
        "id": "YCjCy_0_L9ft",
        "colab": {}
      },
      "source": [
        "xs[2] = 'foo'    # Lists can contain elements of different types\n",
        "print(xs)"
      ],
      "execution_count": null,
      "outputs": []
    },
    {
      "cell_type": "code",
      "metadata": {
        "colab_type": "code",
        "id": "vJ0x5cF-L9fx",
        "colab": {}
      },
      "source": [
        "xs.append('bar') # Add a new element to the end of the list\n",
        "print(xs)  "
      ],
      "execution_count": null,
      "outputs": []
    },
    {
      "cell_type": "code",
      "metadata": {
        "id": "2vpEbQ2STYCr",
        "colab_type": "code",
        "colab": {}
      },
      "source": [
        "xs.insert(1, 'orange')      # 특정 위치에 원소 삽입하기\n",
        "print(xs)"
      ],
      "execution_count": null,
      "outputs": []
    },
    {
      "cell_type": "code",
      "metadata": {
        "colab_type": "code",
        "id": "cxVCNRTNL9f1",
        "colab": {}
      },
      "source": [
        "xs = [3, 'orange', 1, 'foo', 'bar', 10]\n",
        "x = xs.pop()     # Remove and return the last element of the list\n",
        "print(x, xs)\n",
        "\n",
        "xs.remove(1)\n",
        "print(xs)\n",
        "xs.remove(xs[1])\n",
        "print(xs)\n",
        "xs.remove('bar')\n",
        "print(xs)"
      ],
      "execution_count": null,
      "outputs": []
    },
    {
      "cell_type": "markdown",
      "metadata": {
        "id": "1qg0jXlNVkKE",
        "colab_type": "text"
      },
      "source": [
        "리스트를 복사하여 새로운 리스트를 만들 수 있다."
      ]
    },
    {
      "cell_type": "code",
      "metadata": {
        "id": "O206rvWZVrR9",
        "colab_type": "code",
        "colab": {}
      },
      "source": [
        "thislist = [\"apple\", \"banana\", \"cherry\"]\n",
        "newlist = thislist\n",
        "newlist[0] = 'orange'\n",
        "print(thislist)\n",
        "\n",
        "mylist = thislist.copy()\n",
        "mylist[0] = 'melon'\n",
        "print(thislist)\n",
        "print(mylist)\n",
        "\n",
        "thislist = [\"apple\", \"banana\", \"cherry\"]\n",
        "mylist = list(thislist)\n",
        "print(mylist)"
      ],
      "execution_count": null,
      "outputs": []
    },
    {
      "cell_type": "markdown",
      "metadata": {
        "id": "bOB0R2DCV_g3",
        "colab_type": "text"
      },
      "source": [
        "두개 이상의 리스트를 하나의 리스트로 합칠 수 있다."
      ]
    },
    {
      "cell_type": "code",
      "metadata": {
        "id": "x2L7g0O_WErN",
        "colab_type": "code",
        "colab": {}
      },
      "source": [
        "list1 = [\"a\", \"b\" , \"c\"]\n",
        "list2 = [1, 2, 3]\n",
        "list3 = list1 + list2\n",
        "print(list3)"
      ],
      "execution_count": null,
      "outputs": []
    },
    {
      "cell_type": "code",
      "metadata": {
        "id": "i0fHubkSWZqc",
        "colab_type": "code",
        "colab": {}
      },
      "source": [
        "list1 = [\"a\", \"b\" , \"c\"]\n",
        "list2 = [1, 2, 3]\n",
        "list1 += list2\n",
        "print(list1)"
      ],
      "execution_count": null,
      "outputs": []
    },
    {
      "cell_type": "code",
      "metadata": {
        "id": "yqjS9PbFWhtm",
        "colab_type": "code",
        "colab": {}
      },
      "source": [
        "list1 = [\"a\", \"b\" , \"c\"]\n",
        "list2 = [1, 2, 3]\n",
        "\n",
        "list1.extend(list2)\n",
        "print(list1)"
      ],
      "execution_count": null,
      "outputs": []
    },
    {
      "cell_type": "markdown",
      "metadata": {
        "id": "X-AN0XpIQ2fZ",
        "colab_type": "text"
      },
      "source": [
        "리스트의 리스트는 2차원 배열과 같은 역할을 한다."
      ]
    },
    {
      "cell_type": "code",
      "metadata": {
        "id": "cldy7juNREE4",
        "colab_type": "code",
        "colab": {}
      },
      "source": [
        "ys = [[1, 2, 3], [4, 5, 6], [7, 8, 9], [10, 11, 12]]  # 4*3 크기의 이차원 배열처럼 사용한다.\n",
        "print(len(ys))\n",
        "print(ys)\n",
        "print(ys[1])\n",
        "print(ys[1][2])\n",
        "# print(ys[1, 2])       # Error\n",
        "\n",
        "for r in ys:\n",
        "  print(r)\n",
        "\n",
        "for r in ys:\n",
        "  for v in r:\n",
        "    print(v)"
      ],
      "execution_count": null,
      "outputs": []
    },
    {
      "cell_type": "markdown",
      "metadata": {
        "colab_type": "text",
        "id": "ilyoyO34L9f4"
      },
      "source": [
        "좀 더 자세한 사항은 [문서](https://docs.python.org/3.7/tutorial/datastructures.html#more-on-lists)를 참조하라."
      ]
    },
    {
      "cell_type": "markdown",
      "metadata": {
        "colab_type": "text",
        "id": "ovahhxd_L9f5"
      },
      "source": [
        "### 리스트 슬라이싱(slicing)\n",
        "\n"
      ]
    },
    {
      "cell_type": "markdown",
      "metadata": {
        "id": "fYh_8Y2DXhQy",
        "colab_type": "text"
      },
      "source": [
        "리스트의 한 원소 접근하는 것 이외에도, 파이썬은 리스트를 잘라낸 일부분에 접근하는 간결한 문법을 제공한다. 이를 **슬라이싱**이라고 한다. \n",
        "\n",
        "슬라이싱의 기본 형태는 `x[start:end:step]`이다. `start는 슬라이싱을 시작할 위치, `end는 끝낼(exclusive) 위치, 그리고 `step`은 몇개씩 건너뛸지를 지정한다. `step`은 생략될 수 있고, 그 경우 `step=1`로 간주된다."
      ]
    },
    {
      "cell_type": "code",
      "metadata": {
        "colab_type": "code",
        "id": "ninq666bL9f6",
        "colab": {}
      },
      "source": [
        "# nums = [0, 1, 2, 3, 4]\n",
        "nums = list(range(5))    # range is a built-in function that creates a list of integers\n",
        "print(nums)         # Prints \"[0, 1, 2, 3, 4]\"\n",
        "print(nums[2:4])    # Get a slice from index 2 to 4 (exclusive); prints \"[2, 3]\"\n",
        "print(nums[2:])     # Get a slice from index 2 to the end; prints \"[2, 3, 4]\"\n",
        "print(nums[:2])     # Get a slice from the start to index 2 (exclusive); prints \"[0, 1]\"\n",
        "print(nums[:])      # Get a slice of the whole list; prints [\"0, 1, 2, 3, 4]\"\n",
        "print(nums[:-2])    # Slice indices can be negative; prints [\"0, 1, 2, 3]\"\n",
        "\n",
        "nums[2:4] = [8, 9] # Assign a new sublist to a slice\n",
        "print(nums)         # Prints \"[0, 1, 8, 9, 4]\"\n",
        "\n",
        "print(nums[::2])\n",
        "print(nums[-1::-1])"
      ],
      "execution_count": null,
      "outputs": []
    },
    {
      "cell_type": "markdown",
      "metadata": {
        "id": "KBtp7zUjsHyW",
        "colab_type": "text"
      },
      "source": [
        "리스트를 치환하면 새로운 리스트가 생성되지 않지만, 리스트를 슬라이싱하면 새로운 리스트가 생성된다."
      ]
    },
    {
      "cell_type": "code",
      "metadata": {
        "id": "cJi8wqdgsNBP",
        "colab_type": "code",
        "colab": {}
      },
      "source": [
        "a = [1, 2, 3, 4]\n",
        "b = a             # a와 b는 동일한 리스트 객체를 참조한다.\n",
        "c = a[:]          # c는 a의 복사본을 참조한다. 즉, a와 c는 별개의 리스트 객체이다.\n",
        "b[0] = 0\n",
        "c[1] = 0\n",
        "print(a)\n",
        "print(b)\n",
        "print(c)"
      ],
      "execution_count": null,
      "outputs": []
    },
    {
      "cell_type": "markdown",
      "metadata": {
        "colab_type": "text",
        "id": "UONpMhF4L9f_"
      },
      "source": [
        "### 원소의 존재 검사와 반복문\n",
        "\n",
        "아래와 같이 리스트에 특정 원소가 존재하는지 검사할 수 있고, 또한 반복문에서 리스트의 요소들을 반복해서 조회할 수 있다."
      ]
    },
    {
      "cell_type": "code",
      "metadata": {
        "colab_type": "code",
        "id": "4cCOysfWL9gA",
        "colab": {}
      },
      "source": [
        "animals = ['cat', 'dog', 'monkey']\n",
        "if 'dog' in animals:\n",
        "  print(\"Yes, 'dog' is in the list.\")\n",
        "  \n",
        "for animal in animals:\n",
        "    print(animal)"
      ],
      "execution_count": null,
      "outputs": []
    },
    {
      "cell_type": "markdown",
      "metadata": {
        "colab_type": "text",
        "id": "KxIaQs7pL9gE"
      },
      "source": [
        "만약 반복문 내에서 리스트 각 요소의 인덱스에 접근하고 싶다면, `enumerate` 함수를 사용하라:"
      ]
    },
    {
      "cell_type": "code",
      "metadata": {
        "colab_type": "code",
        "id": "JjGnDluWL9gF",
        "colab": {}
      },
      "source": [
        "animals = ['cat', 'dog', 'monkey']\n",
        "for idx, animal in enumerate(animals):\n",
        "    print('#{}: {}'.format(idx + 1, animal))"
      ],
      "execution_count": null,
      "outputs": []
    },
    {
      "cell_type": "markdown",
      "metadata": {
        "id": "64zWKPnsQjrv",
        "colab_type": "text"
      },
      "source": [
        "\n",
        "### 리스트의 정렬\n",
        "\n"
      ]
    },
    {
      "cell_type": "code",
      "metadata": {
        "id": "IFGZSMoGQqqf",
        "colab_type": "code",
        "colab": {}
      },
      "source": [
        "cars = ['Ford', 'BMW', 'Volvo']\n",
        "print(cars)\n",
        "cars.sort()\n",
        "print(cars)\n",
        "cars.sort(reverse=True)\n",
        "print(cars)"
      ],
      "execution_count": null,
      "outputs": []
    },
    {
      "cell_type": "code",
      "metadata": {
        "id": "-Kp7JSJ3RULr",
        "colab_type": "code",
        "colab": {}
      },
      "source": [
        "# A function that returns the length of the value:\n",
        "def myFunc(e):\n",
        "  return len(e)\n",
        "\n",
        "cars = ['Ford', 'Mitsubishi', 'BMW', 'VW']\n",
        "\n",
        "cars.sort(key=myFunc)\n",
        "print(cars)"
      ],
      "execution_count": null,
      "outputs": []
    },
    {
      "cell_type": "code",
      "metadata": {
        "id": "k8DWYQabRgyL",
        "colab_type": "code",
        "colab": {}
      },
      "source": [
        "cars = ['Ford', 'Mitsubishi', 'BMW', 'VW']\n",
        "result = sorted(cars)\n",
        "print(result)\n",
        "print(cars)"
      ],
      "execution_count": null,
      "outputs": []
    },
    {
      "cell_type": "markdown",
      "metadata": {
        "id": "LNQZNsfEaOJc",
        "colab_type": "text"
      },
      "source": [
        "물론 Python은 custom comparator를 이용하는 보다 generic한 정렬 기능을 제공한다. 그 내용은 생략한다."
      ]
    },
    {
      "cell_type": "markdown",
      "metadata": {
        "id": "FomUn2uDtYdy",
        "colab_type": "text"
      },
      "source": [
        "### 예제\n",
        "\n",
        "Python으로 직접 정수 리스트를 정렬하는 Quicksort 알고리즘을 구현해보자."
      ]
    },
    {
      "cell_type": "code",
      "metadata": {
        "id": "JycYFrqVtj7y",
        "colab_type": "code",
        "colab": {}
      },
      "source": [
        "def partition(arr):\n",
        "    x = arr[len(arr)-1]             # pivot element\n",
        "    i = -1                          # position of the last element that is less than or equal to pivot\n",
        "    for j in range(len(arr)-1):     # iterate over elements except pivot\n",
        "        if arr[j] <= x:\n",
        "            i += 1\n",
        "            arr[i], arr[j] = arr[j], arr[i]     # swap\n",
        "    arr[i+1], arr[len(arr)-1] = arr[len(arr)-1], arr[i+1]     \n",
        "    return i+1\n",
        "\n",
        "def quicksort(arr):\n",
        "    if len(arr) <= 1:\n",
        "        return arr\n",
        "\n",
        "    q = partition(arr)\n",
        "    left = arr[:q]\n",
        "    right = arr[q+1:]\n",
        "\n",
        "    return quicksort(left) + [arr[q]] + quicksort(right)\n",
        "\n",
        "data = [ 3, 6, 8, 10, 1, 2, 1 ]\n",
        "print(quicksort(data))"
      ],
      "execution_count": null,
      "outputs": []
    },
    {
      "cell_type": "markdown",
      "metadata": {
        "id": "fWcrMtnGXVX5",
        "colab_type": "text"
      },
      "source": [
        "\n",
        "### <font color=”blue”> **실습 과제 1** \n",
        "1. 정수 리스트를 정렬하는 삽입정렬(insertion sort) 알고리즘을 Python으로 구현하라.\n",
        "2. 정수 리스트를 정렬하는 합병정렬(merge sort) 알고리즘을 Python으로 구현하라.\n",
        "</font> "
      ]
    },
    {
      "cell_type": "markdown",
      "metadata": {
        "colab_type": "text",
        "id": "arrLCcMyL9gK"
      },
      "source": [
        "### List Comprehension"
      ]
    },
    {
      "cell_type": "markdown",
      "metadata": {
        "colab_type": "text",
        "id": "5Qn2jU_pL9gL"
      },
      "source": [
        "예를 들자면 하나의 리스트에 저장된 모든 숫자의 제곱으로 구성되는 다른 리스트를 구성하는 다음의 코드를 보라:"
      ]
    },
    {
      "cell_type": "code",
      "metadata": {
        "colab_type": "code",
        "id": "IVNEwoMXL9gL",
        "colab": {}
      },
      "source": [
        "nums = [0, 1, 2, 3, 4]\n",
        "squares = []\n",
        "for x in nums:\n",
        "    squares.append(x ** 2)\n",
        "print(squares)"
      ],
      "execution_count": null,
      "outputs": []
    },
    {
      "cell_type": "markdown",
      "metadata": {
        "colab_type": "text",
        "id": "7DmKVUFaL9gQ"
      },
      "source": [
        "리스트 comprehension을 이용해 이 코드를 간단하게 만들 수 있다:\n",
        "\n"
      ]
    },
    {
      "cell_type": "code",
      "metadata": {
        "colab_type": "code",
        "id": "kZxsUfV6L9gR",
        "colab": {}
      },
      "source": [
        "nums = [0, 1, 2, 3, 4]\n",
        "squares = [x ** 2 for x in nums]\n",
        "print(squares)"
      ],
      "execution_count": null,
      "outputs": []
    },
    {
      "cell_type": "markdown",
      "metadata": {
        "colab_type": "text",
        "id": "-D8ARK7tL9gV"
      },
      "source": [
        "또한 리스트 comprehensions에 조건을 추가할 수도 있다:"
      ]
    },
    {
      "cell_type": "code",
      "metadata": {
        "colab_type": "code",
        "id": "yUtgOyyYL9gV",
        "colab": {}
      },
      "source": [
        "nums = [0, 1, 2, 3, 4]\n",
        "even_squares = [x ** 2 for x in nums if x % 2 == 0]\n",
        "print(even_squares)"
      ],
      "execution_count": null,
      "outputs": []
    },
    {
      "cell_type": "code",
      "metadata": {
        "id": "9v2AFUR8N-VO",
        "colab_type": "code",
        "colab": {}
      },
      "source": [
        "words = ['hello', 'python', 'and', 'numpy', 'they', 'are', 'really', 'fun']\n",
        "selected = [str for str in words if 'e' in str]\n",
        "print(selected)\n",
        "longstrs = [str.capitalize() for str in words if len(str) > 4]\n",
        "print(longstrs)\n"
      ],
      "execution_count": null,
      "outputs": []
    },
    {
      "cell_type": "markdown",
      "metadata": {
        "id": "HsT7kjkeuYOl",
        "colab_type": "text"
      },
      "source": [
        "### Quicksort Revisited"
      ]
    },
    {
      "cell_type": "code",
      "metadata": {
        "id": "O-oV7sXmufgQ",
        "colab_type": "code",
        "colab": {}
      },
      "source": [
        "def quicksort(arr):\n",
        "    if len(arr) <= 1:\n",
        "        return arr\n",
        "    pivot = arr[len(arr) // 2]\n",
        "    left = [x for x in arr if x < pivot]\n",
        "    middle = [x for x in arr if x == pivot]\n",
        "    right = [x for x in arr if x > pivot]\n",
        "    return quicksort(left) + middle + quicksort(right)\n",
        "\n",
        "print(quicksort([3,6,8,10,1,2,1]))"
      ],
      "execution_count": null,
      "outputs": []
    },
    {
      "cell_type": "markdown",
      "metadata": {
        "id": "YLtq61oqP3mR",
        "colab_type": "text"
      },
      "source": [
        "### <font color=”blue”> **실습 과제 2**  \n",
        " </font>\n",
        "\n"
      ]
    },
    {
      "cell_type": "markdown",
      "metadata": {
        "id": "kPMqOGiSmPT3",
        "colab_type": "text"
      },
      "source": [
        "중고 자동차 재고를 저장한 [파일](https://www.dropbox.com/s/k9py88enkkdiand/cars.csv?dl=0) `cars.csv`를 읽어 온다. Python은 csv 파일을 쉽게 읽고 처리하기 위한 다양한 라이브러리를 제공하지만 일단 여기에서는 단순한 텍스트 파일로 다루어보자."
      ]
    },
    {
      "cell_type": "code",
      "metadata": {
        "id": "2W3GO9amma_v",
        "colab_type": "code",
        "colab": {}
      },
      "source": [
        "from google.colab import drive\n",
        "drive.mount('/content/drive')"
      ],
      "execution_count": null,
      "outputs": []
    },
    {
      "cell_type": "code",
      "metadata": {
        "id": "E_F-R9wtmuWS",
        "colab_type": "code",
        "colab": {}
      },
      "source": [
        "f = open('/content/drive/My Drive/DataScience2020/cars.csv', 'r')   # 파일을 open한다.\n",
        "head = f.readline()           # 파일의 첫 라인을 읽는다. 첫 라인은 테이블의 head이다.\n",
        "print(head)                   # Brand,Price,Body,Mileage,EngineV,Engine Type,Registration,Year,Model\n",
        "data = f.readlines()          # 파일의 나머지 모든 라인을 읽어온다. 라인들의 리스트로 저장된다.\n",
        "f.close()\n",
        "\n",
        "print(len(data))              # 4345\n",
        "print(type(data[0]), data[0]) # 각 라인들은 하나의 String이고, 각 스트링은 9개의 필드가 콤마(,)로 구분된 형태이다."
      ],
      "execution_count": null,
      "outputs": []
    },
    {
      "cell_type": "markdown",
      "metadata": {
        "id": "k06V8w3D50j2",
        "colab_type": "text"
      },
      "source": [
        "<font color=”blue”> **문제**:\n",
        "1. 제조사가 Volkswagen인 가솔린(Gas) 차들 중에서 형태가 Sedan인 자동차를 개수는?\n",
        "2. 제조사가 BMW인 자동차들만 하나의 리스트에 저장한 후 제조년도에 대한 오름차순으로 정렬하여 출력하라. </font>\n"
      ]
    },
    {
      "cell_type": "markdown",
      "metadata": {
        "colab_type": "text",
        "id": "H8xsUEFpL9gZ"
      },
      "source": [
        "## 딕셔너리(Dictionary)"
      ]
    },
    {
      "cell_type": "markdown",
      "metadata": {
        "colab_type": "text",
        "id": "kkjAGMAJL9ga"
      },
      "source": [
        "**자바의** ‘맵(map)’과 유사하게 파이썬의 ‘딕셔너리’는 (key, value) 쌍을 저장한다. "
      ]
    },
    {
      "cell_type": "code",
      "metadata": {
        "colab_type": "code",
        "id": "XBYI1MrYL9gb",
        "colab": {}
      },
      "source": [
        "d = {'cat': 'cute', 'dog': 'furry'}  # Create a new dictionary with some data\n",
        "print(d['cat'])       # Get an entry from a dictionary; prints \"cute\"\n",
        "print('cat' in d)     # Check if a dictionary has a given key; prints \"True\""
      ],
      "execution_count": null,
      "outputs": []
    },
    {
      "cell_type": "code",
      "metadata": {
        "colab_type": "code",
        "id": "pS7e-G-HL9gf",
        "colab": {}
      },
      "source": [
        "d['fish'] = 'wet'    # Set an entry in a dictionary\n",
        "print(d['fish'])      # Prints \"wet\"\n",
        "print(d)"
      ],
      "execution_count": null,
      "outputs": []
    },
    {
      "cell_type": "code",
      "metadata": {
        "colab_type": "code",
        "id": "tFY065ItL9gi",
        "colab": {}
      },
      "source": [
        "# print(d['monkey'])  # KeyError: 'monkey' not a key of d\n",
        "print(d.get('monkey'))"
      ],
      "execution_count": null,
      "outputs": []
    },
    {
      "cell_type": "code",
      "metadata": {
        "colab_type": "code",
        "id": "8TjbEWqML9gl",
        "colab": {}
      },
      "source": [
        "print(d.get('monkey', 'N/A'))  # Get an element with a default; prints \"N/A\"\n",
        "print(d.get('fish', 'N/A'))    # Get an element with a default; prints \"wet\""
      ],
      "execution_count": null,
      "outputs": []
    },
    {
      "cell_type": "code",
      "metadata": {
        "colab_type": "code",
        "id": "0EItdNBJL9go",
        "colab": {}
      },
      "source": [
        "del d['fish']        # Remove an element from a dictionary\n",
        "print(d.get('fish', 'N/A')) # \"fish\" is no longer a key; prints \"N/A\""
      ],
      "execution_count": null,
      "outputs": []
    },
    {
      "cell_type": "markdown",
      "metadata": {
        "colab_type": "text",
        "id": "IxwEqHlGL9gr"
      },
      "source": [
        "딕셔너리는 key를 이용하여 쉽게 반복(iterate)할 수 있다."
      ]
    },
    {
      "cell_type": "code",
      "metadata": {
        "colab_type": "code",
        "id": "rYfz7ZKNL9gs",
        "colab": {}
      },
      "source": [
        "d = {'person': 2, 'cat': 4, 'spider': 8}\n",
        "for animal, legs in d.items():\n",
        "    print('A {} has {} legs'.format(animal, legs))"
      ],
      "execution_count": null,
      "outputs": []
    },
    {
      "cell_type": "markdown",
      "metadata": {
        "colab_type": "text",
        "id": "17sxiOpzL9gz"
      },
      "source": [
        "리스트 comprehensions과 유사한 딕셔너리 comprehensions을 통해 손쉽게 딕셔너리를 만들 수 있다."
      ]
    },
    {
      "cell_type": "code",
      "metadata": {
        "colab_type": "code",
        "id": "8PB07imLL9gz",
        "colab": {}
      },
      "source": [
        "nums = [0, 1, 2, 3, 4]\n",
        "even_num_to_square = {x: x ** 2 for x in nums if x % 2 == 0}\n",
        "print(even_num_to_square)"
      ],
      "execution_count": null,
      "outputs": []
    },
    {
      "cell_type": "markdown",
      "metadata": {
        "id": "s65jxSdCQ0a0",
        "colab_type": "text"
      },
      "source": [
        "딕셔너리에 관한 더 세부적인 사항은 [문서](https://docs.python.org/2/library/stdtypes.html#dict)를 참조하라.\n",
        "\n"
      ]
    },
    {
      "cell_type": "markdown",
      "metadata": {
        "colab_type": "text",
        "id": "V9MHfUdvL9g2"
      },
      "source": [
        "## 집합(Set)"
      ]
    },
    {
      "cell_type": "markdown",
      "metadata": {
        "colab_type": "text",
        "id": "Rpm4UtNpL9g2"
      },
      "source": [
        "집합은 순서가 없는 서로 다른 원소들의 모임이다"
      ]
    },
    {
      "cell_type": "code",
      "metadata": {
        "colab_type": "code",
        "id": "MmyaniLsL9g2",
        "colab": {}
      },
      "source": [
        "animals = {'cat', 'dog'}\n",
        "print('cat' in animals)   # Check if an element is in a set; prints \"True\"\n",
        "print('fish' in animals)  # prints \"False\"\n"
      ],
      "execution_count": null,
      "outputs": []
    },
    {
      "cell_type": "code",
      "metadata": {
        "colab_type": "code",
        "id": "ElJEyK86L9g6",
        "colab": {}
      },
      "source": [
        "animals.add('fish')      # Add an element to a set\n",
        "print('fish' in animals)\n",
        "print(len(animals))       # Number of elements in a set;"
      ],
      "execution_count": null,
      "outputs": []
    },
    {
      "cell_type": "code",
      "metadata": {
        "colab_type": "code",
        "id": "5uGmrxdPL9g9",
        "colab": {}
      },
      "source": [
        "animals.add('cat')       # Adding an element that is already in the set does nothing\n",
        "print(len(animals))       \n",
        "animals.remove('cat')    # Remove an element from a set\n",
        "print(len(animals))       "
      ],
      "execution_count": null,
      "outputs": []
    },
    {
      "cell_type": "markdown",
      "metadata": {
        "colab_type": "text",
        "id": "zk2DbvLKL9g_"
      },
      "source": [
        "집합의 원소들간에는 순서가 없으므로 다음과 같이 집합의 원소들을 iterate할 때 항상 동일한 순서로 iterate되다고 가정해서는 않된다. "
      ]
    },
    {
      "cell_type": "code",
      "metadata": {
        "colab_type": "code",
        "id": "K47KYNGyL9hA",
        "colab": {}
      },
      "source": [
        "animals = {'cat', 'dog', 'fish'}\n",
        "for idx, animal in enumerate(animals):\n",
        "    print('#{}: {}'.format(idx + 1, animal))"
      ],
      "execution_count": null,
      "outputs": []
    },
    {
      "cell_type": "markdown",
      "metadata": {
        "colab_type": "text",
        "id": "puq4S8buL9hC"
      },
      "source": [
        "리스트와 마찬가지로 다음과 같이 set comprehension을 지원한다."
      ]
    },
    {
      "cell_type": "code",
      "metadata": {
        "colab_type": "code",
        "id": "iw7k90k3L9hC",
        "colab": {}
      },
      "source": [
        "from math import sqrt\n",
        "print({int(sqrt(x)) for x in range(30)})"
      ],
      "execution_count": null,
      "outputs": []
    },
    {
      "cell_type": "markdown",
      "metadata": {
        "colab_type": "text",
        "id": "qPsHSKB1L9hF"
      },
      "source": [
        "## 튜플(Tuple)"
      ]
    },
    {
      "cell_type": "markdown",
      "metadata": {
        "colab_type": "text",
        "id": "kucc0LKVL9hG"
      },
      "source": [
        "튜플은 immutable한 리스트이다. 즉, 한 번 생성된 튜플은 값을 변경할 수 없다. 그점을 제외하고 튜플은 리스트와 매우 유사하지만 중요한 차이가 한가지 있다. **튜플은 딕셔너리의 key로 사용될 수 있지만 리스트는 그렇지 않다.** "
      ]
    },
    {
      "cell_type": "code",
      "metadata": {
        "colab_type": "code",
        "id": "9wHUyTKxL9hH",
        "colab": {}
      },
      "source": [
        "d = {(x, x + 1): x for x in range(10)}  # Create a dictionary with tuple keys\n",
        "t = (5, 6)       # Create a tuple\n",
        "print(type(t))\n",
        "print(d[t])       \n",
        "print(d[(1, 2)])"
      ],
      "execution_count": null,
      "outputs": []
    },
    {
      "cell_type": "code",
      "metadata": {
        "colab_type": "code",
        "id": "HoO8zYKzL9hJ",
        "colab": {}
      },
      "source": [
        "t[0] = 1"
      ],
      "execution_count": null,
      "outputs": []
    },
    {
      "cell_type": "markdown",
      "metadata": {
        "id": "p35c6kh3RCru",
        "colab_type": "text"
      },
      "source": [
        "## <font color=”blue”> **실습 과제 3**  \n",
        " </font>"
      ]
    },
    {
      "cell_type": "markdown",
      "metadata": {
        "id": "1dHeOd_zRZUw",
        "colab_type": "text"
      },
      "source": [
        "1. 실습과제2에서는 데이터를 string의 리스트로 저장하였다. 각 스트링은 여러 개의 필드들이 콤마로 구분된 \n",
        "형태였다. 파일의 첫 번째 줄의 헤드 정보를 이용하여 데이터를 딕셔너리의 리스트로 변환하여 저장하라. 각각의 딕셔너리는 하나의 자동차를 표현하고, Brand, Price, Body, Mileage, EngineV, Engine Type, Registration, Year, Model의 9개의 키를 사용하라.\n",
        "2. 가격이 `$`20,000~`$`50,000 범위이고, 제조 년도가 2000년 이후이며, 형태가 sedan이면서 가솔린(Gas)을 연료로 사용하는 모든 차량들을 검색하여 가격이 낮은 것 부터 높은 순으로 정렬하여 출력하라.\n",
        "3. 모든 차량 제조사의 이름을 저장하는 집합(set)을 생성하고 출력하라."
      ]
    },
    {
      "cell_type": "markdown",
      "metadata": {
        "colab_type": "text",
        "id": "AXA4jrEOL9hM"
      },
      "source": [
        "## 함수(Function)"
      ]
    },
    {
      "cell_type": "markdown",
      "metadata": {
        "colab_type": "text",
        "id": "WaRms-QfL9hN"
      },
      "source": [
        "키워드 def를 사용하여 다음과 같이 함수를 정의한다. "
      ]
    },
    {
      "cell_type": "code",
      "metadata": {
        "colab_type": "code",
        "id": "kiMDUr58L9hN",
        "colab": {}
      },
      "source": [
        "def sign(x):\n",
        "    if x > 0:\n",
        "        return 'positive'\n",
        "    elif x < 0:\n",
        "        return 'negative'\n",
        "    else:\n",
        "        return 'zero'\n",
        "\n",
        "for x in [-1, 0, 1]:\n",
        "    print(sign(x))"
      ],
      "execution_count": null,
      "outputs": []
    },
    {
      "cell_type": "markdown",
      "metadata": {
        "colab_type": "text",
        "id": "U-QJFt8TL9hR"
      },
      "source": [
        "다음과 같이 optional argument와 그것의 default 값을 지정할 수 있다. "
      ]
    },
    {
      "cell_type": "code",
      "metadata": {
        "colab_type": "code",
        "id": "PfsZ3DazL9hR",
        "colab": {}
      },
      "source": [
        "def hello(name, loud=False):\n",
        "    if loud:\n",
        "        print('HELLO, {}'.format(name.upper()))\n",
        "    else:\n",
        "        print('Hello, {}!'.format(name))\n",
        "\n",
        "hello('Bob')\n",
        "hello('Fred', loud=True)"
      ],
      "execution_count": null,
      "outputs": []
    },
    {
      "cell_type": "markdown",
      "metadata": {
        "colab_type": "text",
        "id": "ObA9PRtQL9hT"
      },
      "source": [
        "## 클래스(Class)"
      ]
    },
    {
      "cell_type": "markdown",
      "metadata": {
        "colab_type": "text",
        "id": "hAzL_lTkL9hU"
      },
      "source": [
        "Python에서는 다음과 같이 클래스를 정의한다. "
      ]
    },
    {
      "cell_type": "code",
      "metadata": {
        "colab_type": "code",
        "id": "RWdbaGigL9hU",
        "colab": {}
      },
      "source": [
        "class Greeter:\n",
        "\n",
        "    # Constructor\n",
        "    def __init__(self, name):\n",
        "        self.name = name  # Create an instance variable\n",
        "\n",
        "    # Instance method\n",
        "    def greet(self, loud=False):\n",
        "        if loud:\n",
        "          print('HELLO, {}'.format(self.name.upper()))\n",
        "        else:\n",
        "          print('Hello, {}!'.format(self.name))\n",
        "\n",
        "g = Greeter('Fred')  # Construct an instance of the Greeter class\n",
        "g.greet()            # Call an instance method; prints \"Hello, Fred\"\n",
        "g.greet(loud=True)   # Call an instance method; prints \"HELLO, FRED!\""
      ],
      "execution_count": null,
      "outputs": []
    },
    {
      "cell_type": "markdown",
      "metadata": {
        "colab_type": "text",
        "id": "3cfrOV4dL9hW"
      },
      "source": [
        "##Numpy 배열"
      ]
    },
    {
      "cell_type": "markdown",
      "metadata": {
        "colab_type": "text",
        "id": "fY12nHhyL9hX"
      },
      "source": [
        "- Numpy는 파이썬이 계산과학분야에 이용될때 핵심 역할을 하는 라이브러리이다.\n",
        "- Python의 리스트가 배열과 유사한 역할을 할 수 있지만 리스트는 처리속도가 느리다. 고성능이 필요한 상황에는 Numpy 배열이 적합하다.\n",
        "- Numpy는 **동일한 자료형의 데이터를 저장**하는 다차원 배열을 제공한다"
      ]
    },
    {
      "cell_type": "markdown",
      "metadata": {
        "id": "uhLn78JLF10i",
        "colab_type": "text"
      },
      "source": [
        "### 설치와 import하기"
      ]
    },
    {
      "cell_type": "markdown",
      "metadata": {
        "colab_type": "text",
        "id": "lZMyAdqhL9hY"
      },
      "source": [
        "Colab에는 이미 설치되어 있다. PC에서 Numpy 패키지는 다음의 명령으로 설치할 수 있다.\n",
        "\n",
        "`$ pip install numpy`\n",
        "\n",
        "Numpy를 사용하려면 먼저 다음과 같이 `numpy` 패키지를 import해야 한다."
      ]
    },
    {
      "cell_type": "code",
      "metadata": {
        "colab_type": "code",
        "id": "58QdX8BLL9hZ",
        "colab": {}
      },
      "source": [
        "import numpy as np\n",
        "print(np.__version__)"
      ],
      "execution_count": null,
      "outputs": []
    },
    {
      "cell_type": "markdown",
      "metadata": {
        "colab_type": "text",
        "id": "DDx6v1EdL9hb"
      },
      "source": [
        "### 배열의 생성, 그리고 rank와 shape"
      ]
    },
    {
      "cell_type": "markdown",
      "metadata": {
        "colab_type": "text",
        "id": "f-Zv3f7LL9hc"
      },
      "source": [
        "파이썬의 리스트를 이용해 Numpy 배열을 초기화 할 수 있다.\n",
        "\n",
        "배열의 원소들은 정수들의 튜플로 색인(indexing) 된다. \n",
        "\n",
        "배열은 `ndim`, `shape`, `dtype`등의 속성을 지닌다. `ndim` 혹은 rank는 배열이 몇 차원인지를 의미하고, `shape는` 는 각 차원 별 크기를 나타내는 튜플이다. `dtype은` 배열에 저장된 데이터의 타입이다."
      ]
    },
    {
      "cell_type": "code",
      "metadata": {
        "colab_type": "code",
        "id": "-l3JrGxCL9hc",
        "colab": {}
      },
      "source": [
        "a = np.array([1, 2, 3])   # rank 1인 배열의 생성\n",
        "print(a)\n",
        "print(a[0], a[1], a[2])   # []를 이용해 배열의 각각의 값에 접근\n",
        "\n",
        "print(type(a))\n",
        "\n",
        "print(a.ndim)             # 모든 배열은 rank를 나타내는 속성 ndim을 가짐\n",
        "print(a.shape)            # 모든 배열은 shape이라는 속성을 가짐\n",
        "print(a.dtype)            # 모든 배열은 데이터 타입을 나타내는 dtype 속성을 가짐\n",
        "\n",
        "a[0] = 5                  # 배열의 값을 변경\n",
        "print(a)                  "
      ],
      "execution_count": null,
      "outputs": []
    },
    {
      "cell_type": "code",
      "metadata": {
        "colab_type": "code",
        "id": "ma6mk-kdL9hh",
        "colab": {}
      },
      "source": [
        "b = np.array([[1,2,3],[4,5,6]])   # rank 2인 배열의 생성\n",
        "print(b)\n",
        "print(b.ndim)\n",
        "print(b.shape)\n",
        "l = [[1,2,3],[4,5,6]]\n",
        "print(l[0][0])\n",
        "\n",
        "print(b[0, 0], b[0, 1], b[1, 0])        # 다차원 배열에서 각각의 값에 접근\n",
        "print(b[(0, 0)], b[(0, 1)], b[(1, 0)])  # 다차원 배열에서 각각의 값에 접근"
      ],
      "execution_count": null,
      "outputs": []
    },
    {
      "cell_type": "code",
      "metadata": {
        "id": "b5rldcR_9JDX",
        "colab_type": "code",
        "colab": {
          "base_uri": "https://localhost:8080/",
          "height": 153
        },
        "outputId": "1f9a8a19-29a6-4929-85f1-fa131c7371f0"
      },
      "source": [
        "c = np.array([[[1, 2, 3], [4, 5, 6]], [[1, 2, 3], [4, 5, 6]]])\n",
        "print(c.ndim)\n",
        "print(c.shape)\n",
        "print(c)\n",
        "print(c[0, 1, 2], c[(0, 1, 2)])"
      ],
      "execution_count": null,
      "outputs": [
        {
          "output_type": "stream",
          "text": [
            "3\n",
            "(2, 2, 3)\n",
            "[[[1 2 3]\n",
            "  [4 5 6]]\n",
            "\n",
            " [[1 2 3]\n",
            "  [4 5 6]]]\n",
            "6 6\n"
          ],
          "name": "stdout"
        }
      ]
    },
    {
      "cell_type": "markdown",
      "metadata": {
        "colab_type": "text",
        "id": "F2qwdyvuL9hn"
      },
      "source": [
        "*Numpy는* 배열을 생성하고 특정한 값으로 초기화하는 다양한 함수를 제공한다."
      ]
    },
    {
      "cell_type": "code",
      "metadata": {
        "colab_type": "code",
        "id": "mVTN_EBqL9hn",
        "colab": {}
      },
      "source": [
        "a = np.zeros((2,2))   # 0으로 채워진 2*2 크기의 2차원 배열을 생성\n",
        "print(a)\n",
        "print(a.dtype)        # 데이터 타입은 실수가 된다."
      ],
      "execution_count": null,
      "outputs": []
    },
    {
      "cell_type": "code",
      "metadata": {
        "colab_type": "code",
        "id": "skiKlNmlL9h5",
        "colab": {}
      },
      "source": [
        "b = np.ones((1,2))    # 모든 원소가 1인 1*2 크기의 2차원 배열\n",
        "                      # b는 첫번째 차원의 길이가 1인 2차원 배열이다. 이것은 1차원 배열과는 다르다.\n",
        "print(b)              # 이 배열이 어떻게 출력되는지 확인하라."
      ],
      "execution_count": null,
      "outputs": []
    },
    {
      "cell_type": "code",
      "metadata": {
        "colab_type": "code",
        "id": "HtFsr03bL9h7",
        "colab": {}
      },
      "source": [
        "c = np.full((2,2), 7) # Create a constant array\n",
        "print(c)"
      ],
      "execution_count": null,
      "outputs": []
    },
    {
      "cell_type": "code",
      "metadata": {
        "colab_type": "code",
        "id": "-QcALHvkL9h9",
        "colab": {}
      },
      "source": [
        "d = np.eye(3)        # Create a 2x2 identity matrix\n",
        "print(d)"
      ],
      "execution_count": null,
      "outputs": []
    },
    {
      "cell_type": "code",
      "metadata": {
        "colab_type": "code",
        "id": "RCpaYg9qL9iA",
        "colab": {}
      },
      "source": [
        "e = np.random.random((2,2)) # Create an array filled with random values\n",
        "print(e)"
      ],
      "execution_count": null,
      "outputs": []
    },
    {
      "cell_type": "markdown",
      "metadata": {
        "id": "TSms7-0adfh8",
        "colab_type": "text"
      },
      "source": [
        "Numpy 배열에는 **동일한 타입**의 값들이 저장된다. Numpy는 배열이 생성될 때 자료형을 스스로 추측한다. 하지만 배열을 생성할 때 명시적으로 특정 자료형을 지정할 수도 있다."
      ]
    },
    {
      "cell_type": "code",
      "metadata": {
        "id": "rNWDpYCqdYB1",
        "colab_type": "code",
        "colab": {}
      },
      "source": [
        "x = np.array([1, 2])  # Let numpy choose the datatype\n",
        "y = np.array([1.0, 2.0])  # Let numpy choose the datatype\n",
        "z = np.array([1, 2], dtype=np.int32)  # Force a particular datatype\n",
        "w = np.array([1, 2], dtype=np.float32)  # Force a particular datatype\n",
        "\n",
        "print(x.dtype, y.dtype, z.dtype, w.dtype)"
      ],
      "execution_count": null,
      "outputs": []
    },
    {
      "cell_type": "markdown",
      "metadata": {
        "id": "ESoT6CFZBcIq",
        "colab_type": "text"
      },
      "source": [
        "### 배열 reshape"
      ]
    },
    {
      "cell_type": "markdown",
      "metadata": {
        "id": "eDX3qkcnBmxH",
        "colab_type": "text"
      },
      "source": [
        "Numpy배열은 원소의 개수가 유지되는 경우 자유롭게 다른 shape으로 변경할 수 있다. 가령 (3, 4) 크기의 2차원 배열은 (2, 6) 크기의 2차원 배열이나, 길이가 12인 1차원 배열, 혹은 (2, 2, 3) 크기의 3차원배열로도 쉽게 변형할 수 있다.\n",
        "\n"
      ]
    },
    {
      "cell_type": "code",
      "metadata": {
        "id": "909yik20CG1J",
        "colab_type": "code",
        "colab": {
          "base_uri": "https://localhost:8080/",
          "height": 221
        },
        "outputId": "3975e83d-42fb-4d59-fb69-8d96bcdd7ffd"
      },
      "source": [
        "arr = np.array([[1, 2, 3], [4, 5, 6], [7, 8, 9], [10, 11, 12]])\n",
        "print(arr)\n",
        "\n",
        "arr1 = np.reshape(arr, (12))    # arr1 = arr.reshape(12) \n",
        "print(arr1)\n",
        "\n",
        "arr2 = np.reshape(arr, (2, 6))  # arr1 = arr.reshape(2, 6)\n",
        "print(arr2)\n",
        "\n",
        "arr3 = np.reshape(arr, (2, 2, 3))\n",
        "print(arr3)\n",
        "\n",
        "# arr4 = np.reshape(arr, (3, 3))\n"
      ],
      "execution_count": null,
      "outputs": [
        {
          "output_type": "stream",
          "text": [
            "[[ 1  2  3]\n",
            " [ 4  5  6]\n",
            " [ 7  8  9]\n",
            " [10 11 12]]\n",
            "[ 1  2  3  4  5  6  7  8  9 10 11 12]\n",
            "[[ 1  2  3  4  5  6]\n",
            " [ 7  8  9 10 11 12]]\n",
            "[[[ 1  2  3]\n",
            "  [ 4  5  6]]\n",
            "\n",
            " [[ 7  8  9]\n",
            "  [10 11 12]]]\n"
          ],
          "name": "stdout"
        }
      ]
    },
    {
      "cell_type": "markdown",
      "metadata": {
        "id": "3k8yBUrWDK1M",
        "colab_type": "text"
      },
      "source": [
        "배열 reshape은 배열을 복사하여 새로운 배열을 생성하는게 아니라 존재하는 배열에 대한 새로운 view를 제공할 따름이다."
      ]
    },
    {
      "cell_type": "code",
      "metadata": {
        "id": "1048U6LVC9Cf",
        "colab_type": "code",
        "colab": {
          "base_uri": "https://localhost:8080/",
          "height": 85
        },
        "outputId": "99ae4e87-27c8-4e59-a7e3-a98a1a5c05fc"
      },
      "source": [
        "arr3[0, 0, 0] = 99\n",
        "print(arr)"
      ],
      "execution_count": null,
      "outputs": [
        {
          "output_type": "stream",
          "text": [
            "[[99  2  3]\n",
            " [ 4  5  6]\n",
            " [ 7  8  9]\n",
            " [10 11 12]]\n"
          ],
          "name": "stdout"
        }
      ]
    },
    {
      "cell_type": "markdown",
      "metadata": {
        "id": "Km2gwYIeDfPD",
        "colab_type": "text"
      },
      "source": [
        "배열 reshape에서 어짜피 원소의 개수는 보존되어야 하므로 모든 차원의 크기를 명시할 필요가 없다. 즉, 자동으로 계산할 수 있는 경우에는 크기를 명시하는 대신 -1로 대신할 수 있다."
      ]
    },
    {
      "cell_type": "code",
      "metadata": {
        "id": "3jYvr5F-Dzk0",
        "colab_type": "code",
        "colab": {}
      },
      "source": [
        "arr = np.array([1, 2, 3, 4, 5, 6, 7, 8])\n",
        "newarr = arr.reshape(2, 2, -1)\n",
        "print(newarr)\n",
        "\n",
        "wrongreshape = arr.reshape(2, -1, -1)"
      ],
      "execution_count": null,
      "outputs": []
    },
    {
      "cell_type": "markdown",
      "metadata": {
        "id": "3QbjIrSYECTn",
        "colab_type": "text"
      },
      "source": [
        "가장 자주 사용하는 reshape은 다차원 배열을 1차원 배열로 reshape하는 경우이다. Numpy는 이를 위한 몇가지 방법을 제공한다."
      ]
    },
    {
      "cell_type": "code",
      "metadata": {
        "id": "zd9UflrxEUda",
        "colab_type": "code",
        "colab": {
          "base_uri": "https://localhost:8080/",
          "height": 85
        },
        "outputId": "a2683fc6-03fb-4821-92c7-f3e7bffe57a9"
      },
      "source": [
        "arr = np.array([[1, 2, 3], [4, 5, 6]])\n",
        "\n",
        "newarr = arr.reshape(-1)\n",
        "print(newarr)\n",
        "\n",
        "print(np.ravel(arr))\n",
        "print(arr.ravel())\n",
        "# print(np.flatten(arr))\n",
        "print(arr.flatten())\n"
      ],
      "execution_count": null,
      "outputs": [
        {
          "output_type": "stream",
          "text": [
            "[1 2 3 4 5 6]\n",
            "[1 2 3 4 5 6]\n",
            "[1 2 3 4 5 6]\n",
            "[1 2 3 4 5 6]\n"
          ],
          "name": "stdout"
        }
      ]
    },
    {
      "cell_type": "markdown",
      "metadata": {
        "colab_type": "text",
        "id": "QYv4JyIEL9iD"
      },
      "source": [
        "### 배열 슬라이싱(slicing)\n"
      ]
    },
    {
      "cell_type": "markdown",
      "metadata": {
        "id": "n33HOA42Gzaw",
        "colab_type": "text"
      },
      "source": [
        "파이썬 리스트와 유사하게 Numpy 배열도 슬라이싱이 가능하다. Numpy 배열은 다차원인 경우가 많기에, 각 차원별로 어떻게 슬라이스할건지 명확히 해야 한다."
      ]
    },
    {
      "cell_type": "code",
      "metadata": {
        "colab_type": "code",
        "id": "wLWA0udwL9iD",
        "colab": {
          "base_uri": "https://localhost:8080/",
          "height": 51
        },
        "outputId": "a4d7910e-4fdb-4764-a209-268e9bc947c1"
      },
      "source": [
        "# Create the following rank 2 array with shape (3, 4)\n",
        "# [[ 1  2  3  4]\n",
        "#  [ 5  6  7  8]\n",
        "#  [ 9 10 11 12]]\n",
        "a = np.array([[1,2,3,4], [5,6,7,8], [9,10,11,12]])\n",
        "\n",
        "# Use slicing to pull out the subarray consisting of the first 2 rows\n",
        "# and columns 1 and 2; b is the following array of shape (2, 2):\n",
        "# [[2 3]\n",
        "#  [6 7]]\n",
        "b = a[:2, 1:3]\n",
        "print(b)"
      ],
      "execution_count": null,
      "outputs": [
        {
          "output_type": "stream",
          "text": [
            "[[2 3]\n",
            " [6 7]]\n"
          ],
          "name": "stdout"
        }
      ]
    },
    {
      "cell_type": "markdown",
      "metadata": {
        "colab_type": "text",
        "id": "KahhtZKYL9iF"
      },
      "source": [
        "Numpy 배열의 슬라이싱은 새로운 배열을 생성하지 않는다. 다만 기존 배열에 대한 새로운 view를 제공할 뿐이다. 따라서 슬라이스된 배열의 값을 수정하면 원래 배열의 값도 수정된다. "
      ]
    },
    {
      "cell_type": "code",
      "metadata": {
        "colab_type": "code",
        "id": "1kmtaFHuL9iG",
        "colab": {
          "base_uri": "https://localhost:8080/",
          "height": 85
        },
        "outputId": "d686f719-ed02-4029-936e-cb71d5784d1b"
      },
      "source": [
        "print(a[0, 1])\n",
        "b[0, 0] = 77    # b[0, 0] is the same piece of data as a[0, 1]\n",
        "print(a) "
      ],
      "execution_count": null,
      "outputs": [
        {
          "output_type": "stream",
          "text": [
            "77\n",
            "[[ 1 77  3  4]\n",
            " [ 5  6  7  8]\n",
            " [ 9 10 11 12]]\n"
          ],
          "name": "stdout"
        }
      ]
    },
    {
      "cell_type": "markdown",
      "metadata": {
        "colab_type": "text",
        "id": "_Zcf3zi-L9iI"
      },
      "source": [
        "정수 인덱스와 슬라이스 인덱스를 섞어서 함께 사용할 수 있다. 이 경우 배열의 rank가 감소하게 될 것이다. "
      ]
    },
    {
      "cell_type": "code",
      "metadata": {
        "colab_type": "code",
        "id": "G6lfbPuxL9iJ",
        "colab": {
          "base_uri": "https://localhost:8080/",
          "height": 68
        },
        "outputId": "536ba113-39f4-4aad-bca3-ded175c04f4a"
      },
      "source": [
        "# Create the following rank 2 array with shape (3, 4)\n",
        "a = np.array([[1,2,3,4], [5,6,7,8], [9,10,11,12]])\n",
        "print(a)"
      ],
      "execution_count": null,
      "outputs": [
        {
          "output_type": "stream",
          "text": [
            "[[ 1  2  3  4]\n",
            " [ 5  6  7  8]\n",
            " [ 9 10 11 12]]\n"
          ],
          "name": "stdout"
        }
      ]
    },
    {
      "cell_type": "code",
      "metadata": {
        "colab_type": "code",
        "id": "EOiEMsmNL9iL",
        "colab": {
          "base_uri": "https://localhost:8080/",
          "height": 51
        },
        "outputId": "e9ffa429-87c2-4540-99ca-fca16d2f326a"
      },
      "source": [
        "row_r1 = a[1, :]    # Rank 1 view of the second row of a  \n",
        "row_r2 = a[1:2, :]  # Rank 2 view of the second row of a\n",
        "\n",
        "print(row_r1, row_r1.shape)\n",
        "print(row_r2, row_r2.shape)\n"
      ],
      "execution_count": null,
      "outputs": [
        {
          "output_type": "stream",
          "text": [
            "[5 6 7 8] (4,)\n",
            "[[5 6 7 8]] (1, 4)\n"
          ],
          "name": "stdout"
        }
      ]
    },
    {
      "cell_type": "code",
      "metadata": {
        "colab_type": "code",
        "id": "JXu73pfDL9iN",
        "colab": {
          "base_uri": "https://localhost:8080/",
          "height": 102
        },
        "outputId": "eb0665fd-763e-40e9-be44-b7b8dbdb1c14"
      },
      "source": [
        "# We can make the same distinction when accessing columns of an array:\n",
        "col_r1 = a[:, 1]\n",
        "col_r2 = a[:, 1:2]\n",
        "print(col_r1, col_r1.shape)\n",
        "print()\n",
        "print(col_r2, col_r2.shape)"
      ],
      "execution_count": null,
      "outputs": [
        {
          "output_type": "stream",
          "text": [
            "[ 2  6 10] (3,)\n",
            "\n",
            "[[ 2]\n",
            " [ 6]\n",
            " [10]] (3, 1)\n"
          ],
          "name": "stdout"
        }
      ]
    },
    {
      "cell_type": "markdown",
      "metadata": {
        "id": "r72YOoNdYZms",
        "colab_type": "text"
      },
      "source": [
        "### 배열 합치기"
      ]
    },
    {
      "cell_type": "markdown",
      "metadata": {
        "id": "e4WwVuuKaDEC",
        "colab_type": "text"
      },
      "source": [
        "#### Concatenate 함수로 배열 합치기"
      ]
    },
    {
      "cell_type": "markdown",
      "metadata": {
        "id": "7f391s4HYxXL",
        "colab_type": "text"
      },
      "source": [
        "Numpy는 둘 이상의 배열을 **특정 축(axis)을 따라서** 합치는 `concatenate` 메서드를 제공한다. 배열들은 동일한 rank를 가져야 하며, 합쳐질 축을 제외한 나머지 축으로는 동일한 길이를 가져야 한다. 만들어진 배열은 입력된 배열과 동일한 rank를 가진다."
      ]
    },
    {
      "cell_type": "code",
      "metadata": {
        "id": "ik2yjCxLYksO",
        "colab_type": "code",
        "colab": {
          "base_uri": "https://localhost:8080/",
          "height": 34
        },
        "outputId": "d5103631-5154-45e9-f255-2a757daefc1e"
      },
      "source": [
        "import numpy as np\n",
        "\n",
        "arr1 = np.array([1, 2, 3])\n",
        "\n",
        "arr2 = np.array([4, 5])\n",
        "\n",
        "arr = np.concatenate((arr1, arr2))\n",
        "\n",
        "print(arr)"
      ],
      "execution_count": null,
      "outputs": [
        {
          "output_type": "stream",
          "text": [
            "[1 2 3 4 5]\n"
          ],
          "name": "stdout"
        }
      ]
    },
    {
      "cell_type": "markdown",
      "metadata": {
        "id": "f0j07gR2Zsbz",
        "colab_type": "text"
      },
      "source": [
        "배열을 합칠 축을 지정할 수 있다. 축이 지정되지 않으면 디폴트로 `axis=0`으로 간주된다."
      ]
    },
    {
      "cell_type": "code",
      "metadata": {
        "id": "6hlB36JfYvrE",
        "colab_type": "code",
        "colab": {
          "base_uri": "https://localhost:8080/",
          "height": 119
        },
        "outputId": "a83afe7c-d0b9-4872-fb7e-6bd7f575e59d"
      },
      "source": [
        "arr1 = np.array([[1, 2], \n",
        "                 [3, 4]])\n",
        "arr2 = np.array([[5, 6], \n",
        "                 [7, 8]])\n",
        "arr3 = np.concatenate((arr1, arr2), axis=0)\n",
        "print(arr3)\n",
        "\n",
        "arr4 = np.concatenate((arr1, arr2), axis=1)\n",
        "print(arr4)"
      ],
      "execution_count": null,
      "outputs": [
        {
          "output_type": "stream",
          "text": [
            "[[1 2]\n",
            " [3 4]\n",
            " [5 6]\n",
            " [7 8]]\n",
            "[[1 2 5 6]\n",
            " [3 4 7 8]]\n"
          ],
          "name": "stdout"
        }
      ]
    },
    {
      "cell_type": "markdown",
      "metadata": {
        "id": "mCE3SwCeaL6h",
        "colab_type": "text"
      },
      "source": [
        "#### Stack 함수로 배열 쌓기"
      ]
    },
    {
      "cell_type": "markdown",
      "metadata": {
        "id": "dVkKxu8PbXQW",
        "colab_type": "text"
      },
      "source": [
        "`stack` 함수는 배열들을 새로운 축으로 합치는 일을 한다. 예를 들어 1차원 배열들을 합쳐서 2차원 배열을 만들거나, 2차원 배열들을 여러 개 합쳐서 3차원 배열을 합치거나 등이다. 합쳐질 배열들은 모두 동일한 shape이어야 한다. "
      ]
    },
    {
      "cell_type": "code",
      "metadata": {
        "id": "WMj6MO63aTOZ",
        "colab_type": "code",
        "colab": {
          "base_uri": "https://localhost:8080/",
          "height": 102
        },
        "outputId": "f0c70f1a-d062-4643-b4f8-e522e37ad1b0"
      },
      "source": [
        "arr1 = np.array([1, \n",
        "                 2, \n",
        "                 3])\n",
        "arr2 = np.array([4, \n",
        "                 5, \n",
        "                 6])\n",
        "arr3 = np.stack((arr1, arr2), axis=0)\n",
        "print(arr3)\n",
        "arr4 = np.stack((arr1, arr2), axis=1)\n",
        "print(arr4)"
      ],
      "execution_count": null,
      "outputs": [
        {
          "output_type": "stream",
          "text": [
            "[[1 2 3]\n",
            " [4 5 6]]\n",
            "[[1 4]\n",
            " [2 5]\n",
            " [3 6]]\n"
          ],
          "name": "stdout"
        }
      ]
    },
    {
      "cell_type": "markdown",
      "metadata": {
        "colab_type": "text",
        "id": "VP3916bOL9iP"
      },
      "source": [
        "### 정수 배열 인덱싱(Integer Array Indexing)\n",
        "\n",
        "배열에서 하나의 **단일한 원소를 엑세스할 경우에 tuple로 인덱싱**한다.  \n",
        "\n",
        "하지만 배열을 다른 정수 배열(들)로(혹은 정수 배열로 암묵적으로 변환될 수 있는 리스트로) 인덱싱할 수 있다. 이것은 **배열에 저장된 여러 개의 값을 한꺼번에 뽑아내어서 다른 하나의 배열을 생성**하려는 목적이다.\n",
        "\n",
        "배열을 슬라이싱하면 결과로 얻어지는 배열은 원본 배열의 연속적인 부분 배열이거나 혹은 일정한 규칙을 따라서(가령 한 칸씩 건너서 등) 잘라낸 형태이다. \n",
        "그러나 정수 배열 인덱싱을 하면 불규칙적으로 원본 배열의 일부를 뽑내거나 원본과 다른 배열을 만들 수도 있다.\n",
        "\n",
        "**중요**: 슬라이싱은 단지 원본 배열에 대한 새로운 view를 생성하는 것에 지나지 않지만, 정수배열인덱싱은 새로운 배열 객체를 생성한다. "
      ]
    },
    {
      "cell_type": "markdown",
      "metadata": {
        "id": "GQAQzr_Slus8",
        "colab_type": "text"
      },
      "source": [
        "#### 1차원 배열에 대한 정수 배열 인덱싱"
      ]
    },
    {
      "cell_type": "markdown",
      "metadata": {
        "id": "92uICeDGonbZ",
        "colab_type": "text"
      },
      "source": [
        "인덱스로 사용된 배열의 각 값은 그 자리에 올 원래 배열의 값의 위치를 표시한다."
      ]
    },
    {
      "cell_type": "code",
      "metadata": {
        "id": "WsgBwEuAmLhh",
        "colab_type": "code",
        "colab": {
          "base_uri": "https://localhost:8080/",
          "height": 68
        },
        "outputId": "7275c568-3670-47a6-e2a9-57550280d6ad"
      },
      "source": [
        "x = np.arange(10, 1, -1)  # x = np.array([10,  9,  8,  7,  6,  5,  4,  3,  2])\n",
        "print(x)\n",
        "\n",
        "print(x[np.array([3, 3, 1, 8])])\n",
        "print(x[[3, 3, 1, 8]])    # 리스트는 배열로 암묵적으로 변환가능하므로 동일하다.\n"
      ],
      "execution_count": null,
      "outputs": [
        {
          "output_type": "stream",
          "text": [
            "[10  9  8  7  6  5  4  3  2]\n",
            "[7 7 9 2]\n",
            "[7 7 9 2]\n"
          ],
          "name": "stdout"
        }
      ]
    },
    {
      "cell_type": "markdown",
      "metadata": {
        "id": "VEjGGbmSmKZT",
        "colab_type": "text"
      },
      "source": [
        "음수 인덱스도 물론 사용 가능하다."
      ]
    },
    {
      "cell_type": "code",
      "metadata": {
        "id": "pDWrYcpZnEQk",
        "colab_type": "code",
        "colab": {
          "base_uri": "https://localhost:8080/",
          "height": 34
        },
        "outputId": "23273b60-0e38-422b-90a6-3966294e444d"
      },
      "source": [
        "print(x[np.array([3, 3, -3, 8])])"
      ],
      "execution_count": null,
      "outputs": [
        {
          "output_type": "stream",
          "text": [
            "[7 7 4 2]\n"
          ],
          "name": "stdout"
        }
      ]
    },
    {
      "cell_type": "markdown",
      "metadata": {
        "id": "_ytYvlzynjs4",
        "colab_type": "text"
      },
      "source": [
        "1차원 배열을 다차원 배열로 인덱싱할 수도 있다. 이 경우 **리턴되는 결과는 항상 인덱스 배열과 동일한 shape**의 배열이며, 값은 인덱스 배열에 의해서 지정한 값들이다."
      ]
    },
    {
      "cell_type": "code",
      "metadata": {
        "id": "1RZKMgMUn4qt",
        "colab_type": "code",
        "colab": {
          "base_uri": "https://localhost:8080/",
          "height": 51
        },
        "outputId": "cd9ed20c-0bb8-4faa-d185-20a8621cb826"
      },
      "source": [
        "print(x[np.array([[1,1],[2,3]])])     # 1차원 배열을 2차원 배열로 인덱싱한 경우"
      ],
      "execution_count": null,
      "outputs": [
        {
          "output_type": "stream",
          "text": [
            "[[9 9]\n",
            " [8 7]]\n"
          ],
          "name": "stdout"
        }
      ]
    },
    {
      "cell_type": "markdown",
      "metadata": {
        "id": "pLrm7jHMoHLt",
        "colab_type": "text"
      },
      "source": [
        "#### 다차원 배열에 대한 정수 배열 인덱싱"
      ]
    },
    {
      "cell_type": "markdown",
      "metadata": {
        "id": "5b7W1jmDrqPF",
        "colab_type": "text"
      },
      "source": [
        "다차원 배열이 배열로 인덱싱될 때는 좀 더 규칙이 복잡해진다. 우선 가장 간단한 경우는 **원래 배열의 차원의 개수, 즉 rank개의 인덱스 배열로 제공되고, 모든 인덱스 배열들이 동일한 shape을 가지는 경우**이다. \n",
        "\n",
        "이 경우 결과는 인덱스 배열과 동일한 shape을 가진다. 또한 결과 배열의 값은 각각의 차원에 대해서 그 차원에 대응하는 인덱스 배열의 값을 인덱스로 하는 값이다. "
      ]
    },
    {
      "cell_type": "code",
      "metadata": {
        "id": "P6bQEd-wo3di",
        "colab_type": "code",
        "colab": {
          "base_uri": "https://localhost:8080/",
          "height": 153
        },
        "outputId": "fda04582-d70d-4df3-a0be-bf1bbe005cfe"
      },
      "source": [
        "y = np.arange(35).reshape(5,7)\n",
        "print(y)\n",
        "print(y[np.array([0,2,4]), np.array([0,1,2])])\n",
        "# print(y[[0,2,4], [0,1,2]])\n",
        "\n",
        "print(y[np.array([[0, 1], [2, 3]]), np.array([[4, 5], [2, 3]])])\n"
      ],
      "execution_count": null,
      "outputs": [
        {
          "output_type": "stream",
          "text": [
            "[[ 0  1  2  3  4  5  6]\n",
            " [ 7  8  9 10 11 12 13]\n",
            " [14 15 16 17 18 19 20]\n",
            " [21 22 23 24 25 26 27]\n",
            " [28 29 30 31 32 33 34]]\n",
            "[ 0 15 30]\n",
            "[[ 4 12]\n",
            " [16 24]]\n"
          ],
          "name": "stdout"
        }
      ]
    },
    {
      "cell_type": "markdown",
      "metadata": {
        "id": "juBbNe1dpYBr",
        "colab_type": "text"
      },
      "source": [
        "인덱스 배열들이 서로 동일한 shape이 아닐 경우에는 그들을 동일한 shape으로 만들기 위해서 broadcast를 시도한다. 아직 broadcast에 대해 다루지 않았으므로 이 부분은 생략한다.\n"
      ]
    },
    {
      "cell_type": "markdown",
      "metadata": {
        "id": "FIZ7dvmGpjW_",
        "colab_type": "text"
      },
      "source": [
        "원래 **배열의 rank보다 적은 개수의 인덱스 배열**을 사용하여 인덱싱할 수도 있다."
      ]
    },
    {
      "cell_type": "code",
      "metadata": {
        "id": "2giHcGJApkeI",
        "colab_type": "code",
        "colab": {
          "base_uri": "https://localhost:8080/",
          "height": 85
        },
        "outputId": "535066bf-5f62-4719-b15b-7456ced0b96f"
      },
      "source": [
        "print(y[np.array([0, 4, 1, 0])])"
      ],
      "execution_count": null,
      "outputs": [
        {
          "output_type": "stream",
          "text": [
            "[[ 0  1  2  3  4  5  6]\n",
            " [28 29 30 31 32 33 34]\n",
            " [ 7  8  9 10 11 12 13]\n",
            " [ 0  1  2  3  4  5  6]]\n"
          ],
          "name": "stdout"
        }
      ]
    },
    {
      "cell_type": "markdown",
      "metadata": {
        "id": "boShkY0hpsit",
        "colab_type": "text"
      },
      "source": [
        "이 경우 인덱스 배열에 있는 값에 해당하는 행(row)들을 선택하여 새로운 배열을 만들어서 반환한다. 이 기능은 주어진 배열의 특정 행만을 뽑아서 새로운 배열을 구성할 때 유용하다.\n",
        "\n",
        "이 외에도 배열인덱싱을 활용하는 많은 use case들이 있다. 상세한 사항은 [문서](https://numpy.org/doc/stable/reference/arrays.indexing.html)를 참조하라."
      ]
    },
    {
      "cell_type": "markdown",
      "metadata": {
        "colab_type": "text",
        "id": "kaE8dBGgL9id"
      },
      "source": [
        "### 불리언 배열 인덱싱(Boolean array indexing)\n",
        "\n",
        "불리언 배열 인덱싱을 통해 배열 속 요소를 취사선택할 수 있다. 불리언 배열 인덱싱은 특정 조건을 만족하게 하는 요소만 선택하고자 할 때 자주 사용된다."
      ]
    },
    {
      "cell_type": "code",
      "metadata": {
        "colab_type": "code",
        "id": "32PusjtKL9id",
        "colab": {
          "base_uri": "https://localhost:8080/",
          "height": 68
        },
        "outputId": "9019fe77-9330-4628-c1c9-81652f28d0d3"
      },
      "source": [
        "import numpy as np\n",
        "\n",
        "a = np.array([[1, 2], \n",
        "              [3, 4], \n",
        "              [5, 6]])\n",
        "\n",
        "bool_idx = (a > 2)  # Find the elements of a that are bigger than 2;\n",
        "                    # this returns a numpy array of Booleans of the same\n",
        "                    # shape as a, where each slot of bool_idx tells\n",
        "                    # whether that element of a is > 2.\n",
        "\n",
        "print(bool_idx)"
      ],
      "execution_count": null,
      "outputs": [
        {
          "output_type": "stream",
          "text": [
            "[[False False]\n",
            " [ True  True]\n",
            " [ True  True]]\n"
          ],
          "name": "stdout"
        }
      ]
    },
    {
      "cell_type": "code",
      "metadata": {
        "colab_type": "code",
        "id": "cb2IRMXaL9if",
        "colab": {
          "base_uri": "https://localhost:8080/",
          "height": 51
        },
        "outputId": "616607aa-c489-433a-913c-53f5cec42bdb"
      },
      "source": [
        "# We use boolean array indexing to construct a rank 1 array\n",
        "# consisting of the elements of a corresponding to the True values\n",
        "# of bool_idx\n",
        "print(a[bool_idx])\n",
        "\n",
        "# We can do all of the above in a single concise statement:\n",
        "print(a[a > 2])"
      ],
      "execution_count": null,
      "outputs": [
        {
          "output_type": "stream",
          "text": [
            "[3 4 5 6]\n",
            "[3 4 5 6]\n"
          ],
          "name": "stdout"
        }
      ]
    },
    {
      "cell_type": "markdown",
      "metadata": {
        "colab_type": "text",
        "id": "TuB-fdhIL9ik"
      },
      "source": [
        "### 배열 연산(Array math)"
      ]
    },
    {
      "cell_type": "markdown",
      "metadata": {
        "colab_type": "text",
        "id": "18e8V8elL9ik"
      },
      "source": [
        "Numpy 배열에 대한 사칙연산 등의 기본적인 수학 연산이나 함수는 배열의 각 요소별로(elementwise) 동작한다. "
      ]
    },
    {
      "cell_type": "code",
      "metadata": {
        "colab_type": "code",
        "id": "gHKvBrSKL9il",
        "colab": {
          "base_uri": "https://localhost:8080/",
          "height": 85
        },
        "outputId": "db9eb9ac-f690-445e-b838-28f998f453fa"
      },
      "source": [
        "x = np.array([[1,2],[3,4]], dtype=np.float64)\n",
        "y = np.array([[5,6],[7,8]], dtype=np.float64)\n",
        "\n",
        "# Elementwise sum; both produce the array\n",
        "print(x + y)\n",
        "print(np.add(x, y))"
      ],
      "execution_count": null,
      "outputs": [
        {
          "output_type": "stream",
          "text": [
            "[[ 6.  8.]\n",
            " [10. 12.]]\n",
            "[[ 6.  8.]\n",
            " [10. 12.]]\n"
          ],
          "name": "stdout"
        }
      ]
    },
    {
      "cell_type": "code",
      "metadata": {
        "colab_type": "code",
        "id": "1fZtIAMxL9in",
        "colab": {
          "base_uri": "https://localhost:8080/",
          "height": 85
        },
        "outputId": "387018c8-08f4-4103-e857-3ed2cb2533c2"
      },
      "source": [
        "# Elementwise difference; both produce the array\n",
        "print(x - y)\n",
        "print(np.subtract(x, y))"
      ],
      "execution_count": null,
      "outputs": [
        {
          "output_type": "stream",
          "text": [
            "[[-4. -4.]\n",
            " [-4. -4.]]\n",
            "[[-4. -4.]\n",
            " [-4. -4.]]\n"
          ],
          "name": "stdout"
        }
      ]
    },
    {
      "cell_type": "code",
      "metadata": {
        "colab_type": "code",
        "id": "nil4AScML9io",
        "colab": {
          "base_uri": "https://localhost:8080/",
          "height": 85
        },
        "outputId": "3a05a1cd-b44e-4bce-e3a4-dd7ba664683b"
      },
      "source": [
        "# Elementwise product; both produce the array\n",
        "print(x * y)\n",
        "print(np.multiply(x, y))"
      ],
      "execution_count": null,
      "outputs": [
        {
          "output_type": "stream",
          "text": [
            "[[ 5. 12.]\n",
            " [21. 32.]]\n",
            "[[ 5. 12.]\n",
            " [21. 32.]]\n"
          ],
          "name": "stdout"
        }
      ]
    },
    {
      "cell_type": "code",
      "metadata": {
        "colab_type": "code",
        "id": "0JoA4lH6L9ip",
        "colab": {
          "base_uri": "https://localhost:8080/",
          "height": 85
        },
        "outputId": "8ca00455-c168-4879-d761-a0f116edede9"
      },
      "source": [
        "# Elementwise division; both produce the array\n",
        "# [[ 0.2         0.33333333]\n",
        "#  [ 0.42857143  0.5       ]]\n",
        "print(x / y)\n",
        "print(np.divide(x, y))"
      ],
      "execution_count": null,
      "outputs": [
        {
          "output_type": "stream",
          "text": [
            "[[0.2        0.33333333]\n",
            " [0.42857143 0.5       ]]\n",
            "[[0.2        0.33333333]\n",
            " [0.42857143 0.5       ]]\n"
          ],
          "name": "stdout"
        }
      ]
    },
    {
      "cell_type": "code",
      "metadata": {
        "colab_type": "code",
        "id": "g0iZuA6bL9ir",
        "colab": {
          "base_uri": "https://localhost:8080/",
          "height": 51
        },
        "outputId": "689e7b3c-bfa2-44d2-84d1-4526c1bdddf6"
      },
      "source": [
        "# Elementwise square root; produces the array\n",
        "# [[ 1.          1.41421356]\n",
        "#  [ 1.73205081  2.        ]]\n",
        "print(np.sqrt(x))"
      ],
      "execution_count": null,
      "outputs": [
        {
          "output_type": "stream",
          "text": [
            "[[1.         1.41421356]\n",
            " [1.73205081 2.        ]]\n"
          ],
          "name": "stdout"
        }
      ]
    },
    {
      "cell_type": "markdown",
      "metadata": {
        "colab_type": "text",
        "id": "a5d_uujuL9it"
      },
      "source": [
        "즉, `*`은 행렬 곱이 아니라 요소별 곱이다. Numpy에선 벡터의 내적, 벡터와 행렬의 곱을 위해서는 `*`대신 ‘dot’함수를 사용해야 한다. ‘dot’은 Numpy 모듈 함수로서도 배열 객체의 인스턴스 메소드로서도 이용 가능하다."
      ]
    },
    {
      "cell_type": "code",
      "metadata": {
        "colab_type": "code",
        "id": "I3FnmoSeL9iu",
        "colab": {
          "base_uri": "https://localhost:8080/",
          "height": 102
        },
        "outputId": "657051d7-9f37-4c5b-9447-681328b58a1a"
      },
      "source": [
        "x = np.array([[1,2],[3,4]])\n",
        "y = np.array([[5,6],[7,8]])\n",
        "\n",
        "v = np.array([9,10])\n",
        "w = np.array([11, 12])\n",
        "\n",
        "print(x.dot(y))\n",
        "print(x.dot(v))\n",
        "\n",
        "# Inner product of vectors; both produce 219\n",
        "print(v.dot(w))\n",
        "print(np.dot(v, w))"
      ],
      "execution_count": null,
      "outputs": [
        {
          "output_type": "stream",
          "text": [
            "[[19 22]\n",
            " [43 50]]\n",
            "[29 67]\n",
            "219\n",
            "219\n"
          ],
          "name": "stdout"
        }
      ]
    },
    {
      "cell_type": "markdown",
      "metadata": {
        "colab_type": "text",
        "id": "vmxPbrHASVeA"
      },
      "source": [
        "`@`연산자는 numpy의 `dot` 연산자와 동일하다."
      ]
    },
    {
      "cell_type": "code",
      "metadata": {
        "colab_type": "code",
        "id": "vyrWA-mXSdtt",
        "colab": {
          "base_uri": "https://localhost:8080/",
          "height": 34
        },
        "outputId": "2d641573-7179-4e4a-f699-652f1fcbee61"
      },
      "source": [
        "print(v @ w)"
      ],
      "execution_count": null,
      "outputs": [
        {
          "output_type": "stream",
          "text": [
            "219\n"
          ],
          "name": "stdout"
        }
      ]
    },
    {
      "cell_type": "code",
      "metadata": {
        "colab_type": "code",
        "id": "zvUODeTxL9iw",
        "colab": {
          "base_uri": "https://localhost:8080/",
          "height": 68
        },
        "outputId": "62355304-7938-4bfd-b6a2-f0b2b17ea2b2"
      },
      "source": [
        "# Matrix / vector product; both produce the rank 1 array [29 67]\n",
        "print(x.dot(v))\n",
        "print(np.dot(x, v))\n",
        "print(x @ v)"
      ],
      "execution_count": null,
      "outputs": [
        {
          "output_type": "stream",
          "text": [
            "[29 67]\n",
            "[29 67]\n",
            "[29 67]\n"
          ],
          "name": "stdout"
        }
      ]
    },
    {
      "cell_type": "code",
      "metadata": {
        "colab_type": "code",
        "id": "3V_3NzNEL9iy",
        "colab": {
          "base_uri": "https://localhost:8080/",
          "height": 119
        },
        "outputId": "e73d7397-bcb6-49a4-d595-12aee62a1342"
      },
      "source": [
        "# Matrix / matrix product; both produce the rank 2 array\n",
        "# [[19 22]\n",
        "#  [43 50]]\n",
        "print(x.dot(y))\n",
        "print(np.dot(x, y))\n",
        "print(x @ y)"
      ],
      "execution_count": null,
      "outputs": [
        {
          "output_type": "stream",
          "text": [
            "[[19 22]\n",
            " [43 50]]\n",
            "[[19 22]\n",
            " [43 50]]\n",
            "[[19 22]\n",
            " [43 50]]\n"
          ],
          "name": "stdout"
        }
      ]
    },
    {
      "cell_type": "markdown",
      "metadata": {
        "colab_type": "text",
        "id": "FbE-1If_L9i0"
      },
      "source": [
        "Numpy는 `sum`, `max`, `min`, `mean`, `std` 등의 많은 유용한 함수들을 제공한다. "
      ]
    },
    {
      "cell_type": "code",
      "metadata": {
        "colab_type": "code",
        "id": "DZUdZvPrL9i0",
        "colab": {
          "base_uri": "https://localhost:8080/",
          "height": 68
        },
        "outputId": "657577de-5190-4733-e509-2c280cfcc937"
      },
      "source": [
        "x = np.array([[1,2],\n",
        "              [3,4]])\n",
        "\n",
        "print(np.sum(x))  # Compute sum of all elements; prints \"10\"\n",
        "print(np.sum(x, axis=0))  # Compute sum of each column; prints \"[4 6]\"\n",
        "print(np.sum(x, axis=1))  # Compute sum of each row; prints \"[3 7]\""
      ],
      "execution_count": null,
      "outputs": [
        {
          "output_type": "stream",
          "text": [
            "10\n",
            "[4 6]\n",
            "[3 7]\n"
          ],
          "name": "stdout"
        }
      ]
    },
    {
      "cell_type": "code",
      "metadata": {
        "id": "B024rTWZ4gYa",
        "colab_type": "code",
        "colab": {
          "base_uri": "https://localhost:8080/",
          "height": 153
        },
        "outputId": "4001ab33-255c-4fc1-f024-510f45dc03e3"
      },
      "source": [
        "print(np.max(x))\n",
        "print(np.max(x, axis=1))\n",
        "print(np.min(x))\n",
        "print(np.min(x, axis=0))\n",
        "\n",
        "print(np.mean(x))\n",
        "print(np.mean(x, axis=0))\n",
        "\n",
        "print(np.std(x))\n",
        "print(np.std(x, axis=1))\n"
      ],
      "execution_count": null,
      "outputs": [
        {
          "output_type": "stream",
          "text": [
            "4\n",
            "[2 4]\n",
            "1\n",
            "[1 2]\n",
            "2.5\n",
            "[2. 3.]\n",
            "1.118033988749895\n",
            "[0.5 0.5]\n"
          ],
          "name": "stdout"
        }
      ]
    },
    {
      "cell_type": "markdown",
      "metadata": {
        "colab_type": "text",
        "id": "ahdVW4iUL9i3"
      },
      "source": [
        "행렬에서 자주 사용되는 연산의 하나는 전치행렬을 구하는 것이다. 행렬을 전치하기 위해선, 간단하게 배열 객체의 ‘T’ 속성을 사용하면 된다."
      ]
    },
    {
      "cell_type": "code",
      "metadata": {
        "colab_type": "code",
        "id": "63Yl1f3oL9i3",
        "colab": {
          "base_uri": "https://localhost:8080/",
          "height": 102
        },
        "outputId": "75a85e27-547c-4f69-83da-0583b39e30bd"
      },
      "source": [
        "print(x)\n",
        "print(\"transpose\\n\", x.T)"
      ],
      "execution_count": null,
      "outputs": [
        {
          "output_type": "stream",
          "text": [
            "[[1 2]\n",
            " [3 4]]\n",
            "transpose\n",
            " [[1 3]\n",
            " [2 4]]\n"
          ],
          "name": "stdout"
        }
      ]
    },
    {
      "cell_type": "code",
      "metadata": {
        "colab_type": "code",
        "id": "mkk03eNIL9i4",
        "colab": {
          "base_uri": "https://localhost:8080/",
          "height": 102
        },
        "outputId": "9fc41610-4546-430f-8e64-5c8c78cddb96"
      },
      "source": [
        "v = np.array([[1,2,3]])\n",
        "print(v )\n",
        "print(\"transpose\\n\", v.T)"
      ],
      "execution_count": null,
      "outputs": [
        {
          "output_type": "stream",
          "text": [
            "[[1 2 3]]\n",
            "transpose\n",
            " [[1]\n",
            " [2]\n",
            " [3]]\n"
          ],
          "name": "stdout"
        }
      ]
    },
    {
      "cell_type": "markdown",
      "metadata": {
        "colab_type": "text",
        "id": "REfLrUTcL9i7"
      },
      "source": [
        "### Broadcasting"
      ]
    },
    {
      "cell_type": "markdown",
      "metadata": {
        "colab_type": "text",
        "id": "EygGAMWqL9i7"
      },
      "source": [
        "브로트캐스팅은 Numpy에서 shape이 다른 배열 간에도 산술 연산이 가능하게 하는 메커니즘이다. 종종 작은 배열과 큰 배열이 있을 때, 큰 배열을 대상으로 작은 배열을 여러 번 연산하고자 할 때가 있다. 예를 들어, 배열의 모든 원소에 스칼라 값을 더하거나 곱하거나, 혹은 행렬의 각 행에 상수 벡터를 더하고 싶은 경우 등이 있다."
      ]
    },
    {
      "cell_type": "markdown",
      "metadata": {
        "colab_type": "text",
        "id": "zHos6RJnL9jB"
      },
      "source": [
        "Numpy 브로드캐스팅을 이용한다면 다음과 같이 간단하게 할 수 있다."
      ]
    },
    {
      "cell_type": "code",
      "metadata": {
        "colab_type": "code",
        "id": "vnYFb-gYL9jC",
        "colab": {
          "base_uri": "https://localhost:8080/",
          "height": 221
        },
        "outputId": "ca9da858-105d-43ca-c614-193eed9948a0"
      },
      "source": [
        "import numpy as np\n",
        "\n",
        "# We will add the vector v to each row of the matrix x,\n",
        "# storing the result in the matrix y\n",
        "x = np.array([[1,2,3], [4,5,6], [7,8,9], [10, 11, 12]])\n",
        "print(x + 2)      # add a scalar to an array\n",
        "print(x * 2)      # multiply a scalar\n",
        "\n",
        "v = np.array([1, 0, 1])\n",
        "y = x + v         # Add v to each row of x using broadcasting\n",
        "print(y)"
      ],
      "execution_count": null,
      "outputs": [
        {
          "output_type": "stream",
          "text": [
            "[[ 3  4  5]\n",
            " [ 6  7  8]\n",
            " [ 9 10 11]\n",
            " [12 13 14]]\n",
            "[[ 2  4  6]\n",
            " [ 8 10 12]\n",
            " [14 16 18]\n",
            " [20 22 24]]\n",
            "[[ 2  2  4]\n",
            " [ 5  5  7]\n",
            " [ 8  8 10]\n",
            " [11 11 13]]\n"
          ],
          "name": "stdout"
        }
      ]
    },
    {
      "cell_type": "markdown",
      "metadata": {
        "colab_type": "text",
        "id": "08YyIURKL9jH"
      },
      "source": [
        "x의 shape가 (4, 3)이고 v의 shape가 (3,)라도 브로드캐스팅으로 인해 y = x + v는 문제없이 수행된다; 이때 ‘v’는 ‘v’의 복사본이 차곡차곡 쌓인 shape (4, 3)처럼 간주되어 ‘x’와 동일한 shape가 되며 이들 간의 요소별 덧셈연산이 y에 저장된다.\n",
        "\n",
        "두 배열의 브로드캐스팅은 아래의 규칙을 따른다:\n",
        "\n",
        "1. 두 배열이 동일한 rank를 가지고 있지 않다면, 낮은 rank의 배열의 shape앞에 1을 연속적으로 추가하여 두 배열의 rank를 동일하게 만든다.\n",
        "2. 특정 차원에서 두 배열이 동일한 크기를 갖거나, 두 배열 중 하나의 크기가 1이라면 그 두 배열은 그 차원에서 compatible하다고 한다.\n",
        "3. 두 행렬이 모든 차원에서 compatible하다면, 브로드캐스팅이 가능하다.\n",
        "4. 브로드캐스팅이 이뤄지면, 두 배열 shape의 요소별 최대값으로 이루어진 shape이 두 배열의 shape으로 간주된다.\n",
        "5. 차원에 상관없이 크기가 1인 배열과 1보다 큰 배열이 있을 때, 크기가 1인 배열은 자신의 차원 수만큼 복사되어 쌓인 것처럼 간주한다.\n",
        "\n",
        "더 자세한 설명은 [scipy문서](http://docs.scipy.org/doc/numpy/user/basics.broadcasting.html)나 [scipy위키](http://wiki.scipy.org/EricsBroadcastingDoc)를 참조하라."
      ]
    },
    {
      "cell_type": "markdown",
      "metadata": {
        "colab_type": "text",
        "id": "tEINf4bEL9jR"
      },
      "source": [
        "##Matplotlib"
      ]
    },
    {
      "cell_type": "markdown",
      "metadata": {
        "colab_type": "text",
        "id": "0hgVWLaXL9jR"
      },
      "source": [
        "Matplotlib는 **plotting 라이브러리**이다. 여기서는 `matplotlib.pyplot` 모듈에 관한 간략하게 소개한다. 먼저 아래와 같이 `import`한다."
      ]
    },
    {
      "cell_type": "code",
      "metadata": {
        "colab_type": "code",
        "id": "cmh_7c6KL9jR",
        "colab": {}
      },
      "source": [
        "import matplotlib.pyplot as plt"
      ],
      "execution_count": null,
      "outputs": []
    },
    {
      "cell_type": "markdown",
      "metadata": {
        "colab_type": "text",
        "id": "jOsaA5hGL9jS"
      },
      "source": [
        "다음과 같이 특별한 iPython command를 실행함으로써 Jupyter Notebook이나 Colab에서 inline으로 챠트들을 디스플레이할 수 있다."
      ]
    },
    {
      "cell_type": "code",
      "metadata": {
        "colab_type": "code",
        "id": "ijpsmwGnL9jT",
        "colab": {}
      },
      "source": [
        "%matplotlib inline"
      ],
      "execution_count": null,
      "outputs": []
    },
    {
      "cell_type": "markdown",
      "metadata": {
        "colab_type": "text",
        "id": "U5Z_oMoLL9jV"
      },
      "source": [
        "###Plotting"
      ]
    },
    {
      "cell_type": "markdown",
      "metadata": {
        "colab_type": "text",
        "id": "6QyFJ7dhL9jV"
      },
      "source": [
        " `matplotlib`에서 가장 중요한 기능은 2차원 데이터를 그래프로 그릴 수 있게 해주는 `plot`이다. "
      ]
    },
    {
      "cell_type": "code",
      "metadata": {
        "colab_type": "code",
        "id": "pua52BGeL9jW",
        "colab": {
          "base_uri": "https://localhost:8080/",
          "height": 656
        },
        "outputId": "9c1cf57e-434e-4d92-fea4-54e33b6ea6b4"
      },
      "source": [
        "import numpy as np\n",
        "# Compute the x and y coordinates for points on a sine curve\n",
        "x = np.arange(0, 3 * np.pi, 0.1)\n",
        "print(x)\n",
        "y = np.sin(x)\n",
        "print(y)\n",
        "\n",
        "# Plot the points using matplotlib\n",
        "plt.plot(x, y)"
      ],
      "execution_count": null,
      "outputs": [
        {
          "output_type": "stream",
          "text": [
            "[0.  0.1 0.2 0.3 0.4 0.5 0.6 0.7 0.8 0.9 1.  1.1 1.2 1.3 1.4 1.5 1.6 1.7\n",
            " 1.8 1.9 2.  2.1 2.2 2.3 2.4 2.5 2.6 2.7 2.8 2.9 3.  3.1 3.2 3.3 3.4 3.5\n",
            " 3.6 3.7 3.8 3.9 4.  4.1 4.2 4.3 4.4 4.5 4.6 4.7 4.8 4.9 5.  5.1 5.2 5.3\n",
            " 5.4 5.5 5.6 5.7 5.8 5.9 6.  6.1 6.2 6.3 6.4 6.5 6.6 6.7 6.8 6.9 7.  7.1\n",
            " 7.2 7.3 7.4 7.5 7.6 7.7 7.8 7.9 8.  8.1 8.2 8.3 8.4 8.5 8.6 8.7 8.8 8.9\n",
            " 9.  9.1 9.2 9.3 9.4]\n",
            "[ 0.          0.09983342  0.19866933  0.29552021  0.38941834  0.47942554\n",
            "  0.56464247  0.64421769  0.71735609  0.78332691  0.84147098  0.89120736\n",
            "  0.93203909  0.96355819  0.98544973  0.99749499  0.9995736   0.99166481\n",
            "  0.97384763  0.94630009  0.90929743  0.86320937  0.8084964   0.74570521\n",
            "  0.67546318  0.59847214  0.51550137  0.42737988  0.33498815  0.23924933\n",
            "  0.14112001  0.04158066 -0.05837414 -0.15774569 -0.2555411  -0.35078323\n",
            " -0.44252044 -0.52983614 -0.61185789 -0.68776616 -0.7568025  -0.81827711\n",
            " -0.87157577 -0.91616594 -0.95160207 -0.97753012 -0.993691   -0.99992326\n",
            " -0.99616461 -0.98245261 -0.95892427 -0.92581468 -0.88345466 -0.83226744\n",
            " -0.77276449 -0.70554033 -0.63126664 -0.55068554 -0.46460218 -0.37387666\n",
            " -0.2794155  -0.1821625  -0.0830894   0.0168139   0.1165492   0.21511999\n",
            "  0.31154136  0.40484992  0.49411335  0.57843976  0.6569866   0.72896904\n",
            "  0.79366786  0.85043662  0.8987081   0.93799998  0.96791967  0.98816823\n",
            "  0.99854335  0.99894134  0.98935825  0.96988981  0.94073056  0.90217183\n",
            "  0.85459891  0.79848711  0.7343971   0.66296923  0.58491719  0.50102086\n",
            "  0.41211849  0.31909836  0.22288991  0.12445442  0.02477543]\n"
          ],
          "name": "stdout"
        },
        {
          "output_type": "execute_result",
          "data": {
            "text/plain": [
              "[<matplotlib.lines.Line2D at 0x7fb8bcc30630>]"
            ]
          },
          "metadata": {
            "tags": []
          },
          "execution_count": 134
        },
        {
          "output_type": "display_data",
          "data": {
            "image/png": "[encoded data removed]",
            "text/plain": [
              "<Figure size 432x288 with 1 Axes>"
            ]
          },
          "metadata": {
            "tags": [],
            "needs_background": "light"
          }
        }
      ]
    },
    {
      "cell_type": "markdown",
      "metadata": {
        "colab_type": "text",
        "id": "9W2VAcLiL9jX"
      },
      "source": [
        "아래와 같이 여러 개의 함수를 한 번에 디스플레이 할 수 있다. 또한 타이틀이나 범례(legend)를 달거나 축 라벨(axis label)을 붙일 수도 있다."
      ]
    },
    {
      "cell_type": "code",
      "metadata": {
        "colab_type": "code",
        "id": "TfCQHJ5AL9jY",
        "colab": {
          "base_uri": "https://localhost:8080/",
          "height": 312
        },
        "outputId": "31eb3f61-e075-4e98-8605-e175b5f9e578"
      },
      "source": [
        "y_sin = np.sin(x)\n",
        "y_cos = np.cos(x)\n",
        "\n",
        "# Plot the points using matplotlib\n",
        "plt.plot(x, y_sin)\n",
        "plt.plot(x, y_cos)\n",
        "plt.xlabel('x axis label')\n",
        "plt.ylabel('y axis label')\n",
        "plt.title('Sine and Cosine')\n",
        "plt.legend(['Sine', 'Cosine'])"
      ],
      "execution_count": null,
      "outputs": [
        {
          "output_type": "execute_result",
          "data": {
            "text/plain": [
              "<matplotlib.legend.Legend at 0x7fb8bcc13e10>"
            ]
          },
          "metadata": {
            "tags": []
          },
          "execution_count": 135
        },
        {
          "output_type": "display_data",
          "data": {
            "image/png": "[encoded data removed]",
            "text/plain": [
              "<Figure size 432x288 with 1 Axes>"
            ]
          },
          "metadata": {
            "tags": [],
            "needs_background": "light"
          }
        }
      ]
    },
    {
      "cell_type": "markdown",
      "metadata": {
        "colab_type": "text",
        "id": "R5IeAY03L9ja"
      },
      "source": [
        "###Subplots "
      ]
    },
    {
      "cell_type": "markdown",
      "metadata": {
        "colab_type": "text",
        "id": "CfUzwJg0L9ja"
      },
      "source": [
        "`subplot`함수를 통해 하나의 그림 위에 여러 개의 차트를 나타낼 수 있다."
      ]
    },
    {
      "cell_type": "code",
      "metadata": {
        "colab_type": "code",
        "id": "dM23yGH9L9ja",
        "colab": {
          "base_uri": "https://localhost:8080/",
          "height": 281
        },
        "outputId": "d99bc790-b27d-49f2-d4b1-2a9706ba44d4"
      },
      "source": [
        "# Compute the x and y coordinates for points on sine and cosine curves\n",
        "x = np.arange(0, 3 * np.pi, 0.1)\n",
        "y_sin = np.sin(x)\n",
        "y_cos = np.cos(x)\n",
        "\n",
        "# Set up a subplot grid that has height 2 and width 1,\n",
        "# and set the first such subplot as active.\n",
        "plt.subplot(2, 1, 1)\n",
        "\n",
        "# Make the first plot\n",
        "plt.plot(x, y_sin)\n",
        "plt.title('Sine')\n",
        "\n",
        "# Set the second subplot as active, and make the second plot.\n",
        "plt.subplot(2, 1, 2)\n",
        "plt.plot(x, y_cos)\n",
        "plt.title('Cosine')\n",
        "\n",
        "# Show the figure.\n",
        "plt.show()"
      ],
      "execution_count": null,
      "outputs": [
        {
          "output_type": "display_data",
          "data": {
            "image/png": "[encoded data removed]",
            "text/plain": [
              "<Figure size 432x288 with 2 Axes>"
            ]
          },
          "metadata": {
            "tags": [],
            "needs_background": "light"
          }
        }
      ]
    },
    {
      "cell_type": "markdown",
      "metadata": {
        "colab_type": "text",
        "id": "gLtsST5SL9jc"
      },
      "source": [
        "`subplot` 함수에 대한 자세한 설명은 [문서](http://matplotlib.org/api/pyplot_api.html#matplotlib.pyplot.subplot)를 참조하라."
      ]
    },
    {
      "cell_type": "markdown",
      "metadata": {
        "id": "BeMxXWs9v4v0",
        "colab_type": "text"
      },
      "source": [
        "### 이미지(image) 디스플레이 하기\n",
        "\n",
        "`pyplotlib`의 `imshow`함수를 사용해 이미지를 디스플레이 할 수 있다."
      ]
    },
    {
      "cell_type": "code",
      "metadata": {
        "id": "sfGNUShyQAaa",
        "colab_type": "code",
        "colab": {
          "base_uri": "https://localhost:8080/",
          "height": 34
        },
        "outputId": "ccbd0f56-41bd-4bce-c270-3a9f8dc2e63f"
      },
      "source": [
        "from google.colab import drive\n",
        "drive.mount('/content/drive')"
      ],
      "execution_count": null,
      "outputs": [
        {
          "output_type": "stream",
          "text": [
            "Drive already mounted at /content/drive; to attempt to forcibly remount, call drive.mount(\"/content/drive\", force_remount=True).\n"
          ],
          "name": "stdout"
        }
      ]
    },
    {
      "cell_type": "code",
      "metadata": {
        "id": "YoaO6n-Pv-dS",
        "colab_type": "code",
        "colab": {
          "base_uri": "https://localhost:8080/",
          "height": 191
        },
        "outputId": "09d90475-9d52-4a90-c2e8-22800f3a32c3"
      },
      "source": [
        "import numpy as np\n",
        "# from scipy.misc import imread, imresize\n",
        "import matplotlib.pyplot as plt\n",
        "from matplotlib.pyplot import imread\n",
        "\n",
        "img = imread('/content/drive/My Drive/DataScience2020/assets/cat.jpg')\n",
        "print(type(img))\n",
        "print(img.shape)\n",
        "\n",
        "img_tinted = img * [1, 0.95, 0.9]\n",
        "\n",
        "# 원본 이미지 나타내기\n",
        "plt.subplot(1, 2, 1)\n",
        "plt.imshow(img)\n",
        "\n",
        "# 색변화된 이미지 나타내기\n",
        "plt.subplot(1, 2, 2)\n",
        "\n",
        "# imshow를 이용하며 주의할 점은 데이터의 자료형이\n",
        "# uint8이 아니라면 이상한 결과를 보여줄 수도 있다는 것이다.\n",
        "# 그러므로 이미지를 나타내기 전에 명시적으로 자료형을 uint8로 형변환 해준다.\n",
        "\n",
        "plt.imshow(np.uint8(img_tinted))\n",
        "plt.show()"
      ],
      "execution_count": null,
      "outputs": [
        {
          "output_type": "stream",
          "text": [
            "<class 'numpy.ndarray'>\n",
            "(187, 269, 3)\n"
          ],
          "name": "stdout"
        },
        {
          "output_type": "display_data",
          "data": {
            "image/png": "[encoded data removed]",
            "text/plain": [
              "<Figure size 432x288 with 2 Axes>"
            ]
          },
          "metadata": {
            "tags": [],
            "needs_background": "light"
          }
        }
      ]
    },
    {
      "cell_type": "code",
      "metadata": {
        "id": "o8m4oz-LRkoM",
        "colab_type": "code",
        "colab": {
          "base_uri": "https://localhost:8080/",
          "height": 269
        },
        "outputId": "f198608e-ab8f-4789-e47a-2872e17d2c73"
      },
      "source": [
        "from PIL import Image\n",
        "from urllib.request import urlopen\n",
        "\n",
        "# url = 'https://newevolutiondesigns.com/images/freebies/colorful-background-14.jpg'\n",
        "url = 'https://github.com/ohheum/DS2020/blob/master/assets/cat.jpg?raw=true'\n",
        "img = Image.open(urlopen(url))\n",
        "plt.imshow(img)\n",
        "plt.show()\n"
      ],
      "execution_count": null,
      "outputs": [
        {
          "output_type": "display_data",
          "data": {
            "image/png": "[encoded data removed]",
            "text/plain": [
              "<Figure size 432x288 with 1 Axes>"
            ]
          },
          "metadata": {
            "tags": [],
            "needs_background": "light"
          }
        }
      ]
    }
  ]
}